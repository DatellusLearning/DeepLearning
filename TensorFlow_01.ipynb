{
 "cells": [
  {
   "cell_type": "markdown",
   "id": "191afa9c-7559-477d-b00b-de77961ce57a",
   "metadata": {},
   "source": [
    "# __Intro A TensorFlow__"
   ]
  },
  {
   "cell_type": "code",
   "execution_count": 1,
   "id": "26e0efef-a2dd-46d5-a80b-fe3cc9076f5f",
   "metadata": {},
   "outputs": [],
   "source": [
    "import tensorflow as tf"
   ]
  },
  {
   "cell_type": "markdown",
   "id": "dbe54cf9-bb18-4216-ab93-b283daae62d9",
   "metadata": {},
   "source": [
    "## Revisando Versiones"
   ]
  },
  {
   "cell_type": "code",
   "execution_count": 2,
   "id": "203e325a-653e-4fe0-ba59-0b61d920fe47",
   "metadata": {},
   "outputs": [
    {
     "name": "stdout",
     "output_type": "stream",
     "text": [
      "TensorFlow Version: 2.14.0\n"
     ]
    }
   ],
   "source": [
    "print(f'TensorFlow Version: {tf.__version__}')"
   ]
  },
  {
   "cell_type": "markdown",
   "id": "be6268b2-5990-476d-bd9c-d3370fedc770",
   "metadata": {},
   "source": [
    "## Primeros Tensors"
   ]
  },
  {
   "cell_type": "code",
   "execution_count": 3,
   "id": "8486ae54-5813-4e5f-ac95-da3b45519592",
   "metadata": {},
   "outputs": [
    {
     "data": {
      "text/plain": [
       "<tf.Tensor: shape=(), dtype=int32, numpy=7>"
      ]
     },
     "execution_count": 3,
     "metadata": {},
     "output_type": "execute_result"
    }
   ],
   "source": [
    "scalar_tensor = tf.constant(7)\n",
    "scalar_tensor"
   ]
  },
  {
   "cell_type": "code",
   "execution_count": 4,
   "id": "4f6ad32f-598d-4563-bea9-3da385bb4e94",
   "metadata": {},
   "outputs": [
    {
     "data": {
      "text/plain": [
       "<tf.Tensor: shape=(3,), dtype=int32, numpy=array([1, 2, 3])>"
      ]
     },
     "execution_count": 4,
     "metadata": {},
     "output_type": "execute_result"
    }
   ],
   "source": [
    "tensor_vector = tf.constant([1, 2, 3])\n",
    "tensor_vector"
   ]
  },
  {
   "cell_type": "code",
   "execution_count": 5,
   "id": "85ea07f9-63e3-4ba4-92ef-dcdb75e6f5ae",
   "metadata": {},
   "outputs": [
    {
     "data": {
      "text/plain": [
       "<tf.Tensor: shape=(2, 2), dtype=int32, numpy=\n",
       "array([[1, 2],\n",
       "       [3, 4]])>"
      ]
     },
     "execution_count": 5,
     "metadata": {},
     "output_type": "execute_result"
    }
   ],
   "source": [
    "tensor_matrix = tf.constant([[1, 2], [3, 4]])\n",
    "tensor_matrix"
   ]
  },
  {
   "cell_type": "code",
   "execution_count": 6,
   "id": "9d28457e-674c-4fd8-bb4e-8beee892b5b9",
   "metadata": {},
   "outputs": [
    {
     "data": {
      "text/plain": [
       "<tf.Tensor: shape=(2, 2, 2), dtype=int32, numpy=\n",
       "array([[[1, 2],\n",
       "        [3, 4]],\n",
       "\n",
       "       [[5, 6],\n",
       "        [7, 8]]])>"
      ]
     },
     "execution_count": 6,
     "metadata": {},
     "output_type": "execute_result"
    }
   ],
   "source": [
    "tensor_3d = tf.constant([[[1, 2], [3, 4]], [[5, 6], [7, 8]]])\n",
    "tensor_3d"
   ]
  },
  {
   "cell_type": "markdown",
   "id": "4a55f4e0-70b0-4879-9e51-fe70e5f3de64",
   "metadata": {},
   "source": [
    "## __OBS: Recordar Que Estamos Trabajando Con Tensors, Podemos Transformarlos A Numpy Arrays__"
   ]
  },
  {
   "cell_type": "code",
   "execution_count": 7,
   "id": "9e40d662-3fee-452c-8be9-f9d2c56216cb",
   "metadata": {},
   "outputs": [
    {
     "data": {
      "text/plain": [
       "<tf.Tensor: shape=(3,), dtype=int32, numpy=array([1, 2, 3])>"
      ]
     },
     "execution_count": 7,
     "metadata": {},
     "output_type": "execute_result"
    }
   ],
   "source": [
    "tensor_vector"
   ]
  },
  {
   "cell_type": "code",
   "execution_count": 8,
   "id": "3b36fc2d-3729-4870-a9d3-9abd53e45508",
   "metadata": {},
   "outputs": [
    {
     "data": {
      "text/plain": [
       "array([1, 2, 3])"
      ]
     },
     "execution_count": 8,
     "metadata": {},
     "output_type": "execute_result"
    }
   ],
   "source": [
    "tensor_vector.numpy()"
   ]
  },
  {
   "cell_type": "markdown",
   "id": "0423701a-2ff3-4275-b8a3-cf4ee989508d",
   "metadata": {},
   "source": [
    "## Operaciones"
   ]
  },
  {
   "cell_type": "code",
   "execution_count": 9,
   "id": "cb38dabb-bfe5-47a7-8304-d6eb3301ef38",
   "metadata": {},
   "outputs": [],
   "source": [
    "t1 = tf.constant([1, 2, 3])\n",
    "t2 = tf.constant([4, 5, 6])"
   ]
  },
  {
   "cell_type": "code",
   "execution_count": 11,
   "id": "6cc8da86-0339-496d-88cf-965e9c8103f1",
   "metadata": {},
   "outputs": [
    {
     "data": {
      "text/plain": [
       "<tf.Tensor: shape=(3,), dtype=int32, numpy=array([4, 5, 6])>"
      ]
     },
     "execution_count": 11,
     "metadata": {},
     "output_type": "execute_result"
    }
   ],
   "source": [
    "t2"
   ]
  },
  {
   "cell_type": "code",
   "execution_count": 12,
   "id": "19268368-7061-4470-8aa7-15e0fcc169c0",
   "metadata": {},
   "outputs": [
    {
     "data": {
      "text/plain": [
       "<tf.Tensor: shape=(3,), dtype=int32, numpy=array([5, 7, 9])>"
      ]
     },
     "execution_count": 12,
     "metadata": {},
     "output_type": "execute_result"
    }
   ],
   "source": [
    "suma = tf.add(t1, t2)\n",
    "suma"
   ]
  },
  {
   "cell_type": "code",
   "execution_count": 13,
   "id": "ae37466a-7cba-454b-b3c6-187fa02dfd87",
   "metadata": {},
   "outputs": [
    {
     "data": {
      "text/plain": [
       "<tf.Tensor: shape=(3,), dtype=int32, numpy=array([-3, -3, -3])>"
      ]
     },
     "execution_count": 13,
     "metadata": {},
     "output_type": "execute_result"
    }
   ],
   "source": [
    "resta = tf.subtract(t1, t2)\n",
    "resta"
   ]
  },
  {
   "cell_type": "code",
   "execution_count": 14,
   "id": "2877fedd-de4c-4127-838a-771182ca68de",
   "metadata": {},
   "outputs": [
    {
     "data": {
      "text/plain": [
       "<tf.Tensor: shape=(3,), dtype=int32, numpy=array([ 4, 10, 18])>"
      ]
     },
     "execution_count": 14,
     "metadata": {},
     "output_type": "execute_result"
    }
   ],
   "source": [
    "multiplicacion = tf.multiply(t1, t2)\n",
    "multiplicacion"
   ]
  },
  {
   "cell_type": "code",
   "execution_count": 15,
   "id": "6ade77d8-dbb3-4a4f-a87e-33a94865feae",
   "metadata": {},
   "outputs": [
    {
     "data": {
      "text/plain": [
       "<tf.Tensor: shape=(3,), dtype=float64, numpy=array([0.25, 0.4 , 0.5 ])>"
      ]
     },
     "execution_count": 15,
     "metadata": {},
     "output_type": "execute_result"
    }
   ],
   "source": [
    "division = tf.divide(t1, t2)\n",
    "division"
   ]
  },
  {
   "cell_type": "markdown",
   "id": "f60f3f67-cbf7-48ca-a171-5a8620752988",
   "metadata": {},
   "source": [
    "## Slicing"
   ]
  },
  {
   "cell_type": "code",
   "execution_count": 16,
   "id": "5d2dfc54-c937-4daf-bed9-4f8ea74b4ee1",
   "metadata": {},
   "outputs": [
    {
     "data": {
      "text/plain": [
       "<tf.Tensor: shape=(3, 3), dtype=int32, numpy=\n",
       "array([[1, 2, 3],\n",
       "       [4, 5, 6],\n",
       "       [7, 8, 9]])>"
      ]
     },
     "execution_count": 16,
     "metadata": {},
     "output_type": "execute_result"
    }
   ],
   "source": [
    "tensor = tf.constant([[1, 2, 3], [4, 5, 6], [7, 8, 9]])\n",
    "tensor"
   ]
  },
  {
   "cell_type": "code",
   "execution_count": 17,
   "id": "3051eb8e-5628-4930-8f4a-cfa0aad2679e",
   "metadata": {},
   "outputs": [
    {
     "data": {
      "text/plain": [
       "<tf.Tensor: shape=(3,), dtype=int32, numpy=array([1, 2, 3])>"
      ]
     },
     "execution_count": 17,
     "metadata": {},
     "output_type": "execute_result"
    }
   ],
   "source": [
    "primera_fila = tensor[0, :]\n",
    "primera_fila"
   ]
  },
  {
   "cell_type": "code",
   "execution_count": 18,
   "id": "c06bd4d6-5ad1-4753-af8b-c70d0cc420f7",
   "metadata": {},
   "outputs": [
    {
     "data": {
      "text/plain": [
       "<tf.Tensor: shape=(3,), dtype=int32, numpy=array([2, 5, 8])>"
      ]
     },
     "execution_count": 18,
     "metadata": {},
     "output_type": "execute_result"
    }
   ],
   "source": [
    "segunda_columna = tensor[: , 1]\n",
    "segunda_columna"
   ]
  },
  {
   "cell_type": "code",
   "execution_count": 19,
   "id": "45c3afc3-c2e2-448d-acb6-b74de965cbfd",
   "metadata": {},
   "outputs": [
    {
     "data": {
      "text/plain": [
       "<tf.Tensor: shape=(2, 2), dtype=int32, numpy=\n",
       "array([[1, 2],\n",
       "       [4, 5]])>"
      ]
     },
     "execution_count": 19,
     "metadata": {},
     "output_type": "execute_result"
    }
   ],
   "source": [
    "sub_matriz = tensor[:2, :2]\n",
    "sub_matriz"
   ]
  },
  {
   "cell_type": "markdown",
   "id": "ca027779-488d-49c9-9e20-36d2fc8b0cb4",
   "metadata": {},
   "source": [
    "## Reshaping"
   ]
  },
  {
   "cell_type": "code",
   "execution_count": 20,
   "id": "b82eec15-fb09-454e-a4bc-1b9bd874ab96",
   "metadata": {},
   "outputs": [
    {
     "data": {
      "text/plain": [
       "<tf.Tensor: shape=(3, 3), dtype=int32, numpy=\n",
       "array([[1, 2, 3],\n",
       "       [4, 5, 6],\n",
       "       [7, 8, 9]])>"
      ]
     },
     "execution_count": 20,
     "metadata": {},
     "output_type": "execute_result"
    }
   ],
   "source": [
    "tensor"
   ]
  },
  {
   "cell_type": "code",
   "execution_count": 21,
   "id": "6e18ca11-204b-4926-8028-be6e9213f900",
   "metadata": {},
   "outputs": [
    {
     "data": {
      "text/plain": [
       "<tf.Tensor: shape=(1, 9), dtype=int32, numpy=array([[1, 2, 3, 4, 5, 6, 7, 8, 9]])>"
      ]
     },
     "execution_count": 21,
     "metadata": {},
     "output_type": "execute_result"
    }
   ],
   "source": [
    "tensor_reshaped = tf.reshape(tensor, (1, 9))\n",
    "tensor_reshaped"
   ]
  },
  {
   "cell_type": "markdown",
   "id": "d0be0fa7-af91-4efe-ad1a-6a71a51b304e",
   "metadata": {},
   "source": [
    "## La Importancia De Las Dimensiones"
   ]
  },
  {
   "cell_type": "code",
   "execution_count": 22,
   "id": "38edb35a-4b81-45a0-ab11-f85cd3c341ea",
   "metadata": {},
   "outputs": [],
   "source": [
    "x = tf.constant([1, 2, 3])\n",
    "y = tf.constant([[1], [2], [3]])"
   ]
  },
  {
   "cell_type": "code",
   "execution_count": 23,
   "id": "15b82002-ee39-4c44-883c-88e563c3b002",
   "metadata": {},
   "outputs": [
    {
     "data": {
      "text/plain": [
       "(TensorShape([3]), TensorShape([3, 1]))"
      ]
     },
     "execution_count": 23,
     "metadata": {},
     "output_type": "execute_result"
    }
   ],
   "source": [
    "x.shape , y.shape"
   ]
  },
  {
   "cell_type": "code",
   "execution_count": 24,
   "id": "1eccc959-796a-4c76-921d-36e389bcf908",
   "metadata": {},
   "outputs": [
    {
     "data": {
      "text/plain": [
       "<tf.Tensor: shape=(3, 3), dtype=int32, numpy=\n",
       "array([[2, 3, 4],\n",
       "       [3, 4, 5],\n",
       "       [4, 5, 6]])>"
      ]
     },
     "execution_count": 24,
     "metadata": {},
     "output_type": "execute_result"
    }
   ],
   "source": [
    "tf.add(x, y)"
   ]
  },
  {
   "cell_type": "code",
   "execution_count": null,
   "id": "83204b1f-c8aa-480a-aecc-4db8022915d6",
   "metadata": {},
   "outputs": [],
   "source": [
    "."
   ]
  }
 ],
 "metadata": {
  "kernelspec": {
   "display_name": "Python 3 (ipykernel)",
   "language": "python",
   "name": "python3"
  },
  "language_info": {
   "codemirror_mode": {
    "name": "ipython",
    "version": 3
   },
   "file_extension": ".py",
   "mimetype": "text/x-python",
   "name": "python",
   "nbconvert_exporter": "python",
   "pygments_lexer": "ipython3",
   "version": "3.9.13"
  }
 },
 "nbformat": 4,
 "nbformat_minor": 5
}
