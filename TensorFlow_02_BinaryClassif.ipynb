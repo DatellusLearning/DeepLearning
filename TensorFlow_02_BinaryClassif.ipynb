{
 "cells": [
  {
   "cell_type": "markdown",
   "id": "ea8298d0-70db-4bb3-8bc0-c9358a72ac07",
   "metadata": {},
   "source": [
    "# __TensorFlow 02 : Binary Classification__"
   ]
  },
  {
   "cell_type": "code",
   "execution_count": 2,
   "id": "18bf7362-f4fe-466d-9297-1d9a29e55d58",
   "metadata": {},
   "outputs": [],
   "source": [
    "import tensorflow as tf\n",
    "from tensorflow.keras.models import Sequential\n",
    "from tensorflow.keras.layers import Dense\n",
    "from tensorflow.keras.optimizers import Adam\n",
    "from sklearn.model_selection import train_test_split\n",
    "from sklearn.preprocessing import MinMaxScaler\n",
    "import numpy as np\n",
    "import pandas as pd"
   ]
  },
  {
   "cell_type": "code",
   "execution_count": 3,
   "id": "39644af7-6426-4de8-83a1-54498e96680b",
   "metadata": {},
   "outputs": [],
   "source": [
    "data = pd.read_pickle(\"datasets/TitanicTorch.pkl\")"
   ]
  },
  {
   "cell_type": "code",
   "execution_count": 4,
   "id": "556f59e7-49c6-4d9b-9d31-9a7a29ca99ae",
   "metadata": {},
   "outputs": [
    {
     "data": {
      "text/html": [
       "<div>\n",
       "<style scoped>\n",
       "    .dataframe tbody tr th:only-of-type {\n",
       "        vertical-align: middle;\n",
       "    }\n",
       "\n",
       "    .dataframe tbody tr th {\n",
       "        vertical-align: top;\n",
       "    }\n",
       "\n",
       "    .dataframe thead th {\n",
       "        text-align: right;\n",
       "    }\n",
       "</style>\n",
       "<table border=\"1\" class=\"dataframe\">\n",
       "  <thead>\n",
       "    <tr style=\"text-align: right;\">\n",
       "      <th></th>\n",
       "      <th>Survived</th>\n",
       "      <th>Age</th>\n",
       "      <th>male</th>\n",
       "      <th>Q</th>\n",
       "      <th>S</th>\n",
       "      <th>2</th>\n",
       "      <th>3</th>\n",
       "      <th>Sibsp__1</th>\n",
       "      <th>Sibsp__2</th>\n",
       "      <th>Sibsp__3</th>\n",
       "      <th>Sibsp__4</th>\n",
       "      <th>Sibsp__5</th>\n",
       "      <th>Sibsp__8</th>\n",
       "      <th>Parch__2</th>\n",
       "      <th>Parch__3</th>\n",
       "    </tr>\n",
       "  </thead>\n",
       "  <tbody>\n",
       "    <tr>\n",
       "      <th>0</th>\n",
       "      <td>0</td>\n",
       "      <td>22.000000</td>\n",
       "      <td>1</td>\n",
       "      <td>0</td>\n",
       "      <td>1</td>\n",
       "      <td>0</td>\n",
       "      <td>1</td>\n",
       "      <td>1</td>\n",
       "      <td>0</td>\n",
       "      <td>0</td>\n",
       "      <td>0</td>\n",
       "      <td>0</td>\n",
       "      <td>0</td>\n",
       "      <td>0</td>\n",
       "      <td>1</td>\n",
       "    </tr>\n",
       "    <tr>\n",
       "      <th>1</th>\n",
       "      <td>1</td>\n",
       "      <td>38.000000</td>\n",
       "      <td>0</td>\n",
       "      <td>0</td>\n",
       "      <td>0</td>\n",
       "      <td>0</td>\n",
       "      <td>0</td>\n",
       "      <td>1</td>\n",
       "      <td>0</td>\n",
       "      <td>0</td>\n",
       "      <td>0</td>\n",
       "      <td>0</td>\n",
       "      <td>0</td>\n",
       "      <td>0</td>\n",
       "      <td>0</td>\n",
       "    </tr>\n",
       "    <tr>\n",
       "      <th>2</th>\n",
       "      <td>1</td>\n",
       "      <td>26.000000</td>\n",
       "      <td>0</td>\n",
       "      <td>0</td>\n",
       "      <td>1</td>\n",
       "      <td>0</td>\n",
       "      <td>1</td>\n",
       "      <td>0</td>\n",
       "      <td>0</td>\n",
       "      <td>0</td>\n",
       "      <td>0</td>\n",
       "      <td>0</td>\n",
       "      <td>0</td>\n",
       "      <td>0</td>\n",
       "      <td>1</td>\n",
       "    </tr>\n",
       "    <tr>\n",
       "      <th>3</th>\n",
       "      <td>1</td>\n",
       "      <td>35.000000</td>\n",
       "      <td>0</td>\n",
       "      <td>0</td>\n",
       "      <td>1</td>\n",
       "      <td>0</td>\n",
       "      <td>0</td>\n",
       "      <td>1</td>\n",
       "      <td>0</td>\n",
       "      <td>0</td>\n",
       "      <td>0</td>\n",
       "      <td>0</td>\n",
       "      <td>0</td>\n",
       "      <td>0</td>\n",
       "      <td>0</td>\n",
       "    </tr>\n",
       "    <tr>\n",
       "      <th>4</th>\n",
       "      <td>0</td>\n",
       "      <td>35.000000</td>\n",
       "      <td>1</td>\n",
       "      <td>0</td>\n",
       "      <td>1</td>\n",
       "      <td>0</td>\n",
       "      <td>1</td>\n",
       "      <td>0</td>\n",
       "      <td>0</td>\n",
       "      <td>0</td>\n",
       "      <td>0</td>\n",
       "      <td>0</td>\n",
       "      <td>0</td>\n",
       "      <td>0</td>\n",
       "      <td>1</td>\n",
       "    </tr>\n",
       "    <tr>\n",
       "      <th>...</th>\n",
       "      <td>...</td>\n",
       "      <td>...</td>\n",
       "      <td>...</td>\n",
       "      <td>...</td>\n",
       "      <td>...</td>\n",
       "      <td>...</td>\n",
       "      <td>...</td>\n",
       "      <td>...</td>\n",
       "      <td>...</td>\n",
       "      <td>...</td>\n",
       "      <td>...</td>\n",
       "      <td>...</td>\n",
       "      <td>...</td>\n",
       "      <td>...</td>\n",
       "      <td>...</td>\n",
       "    </tr>\n",
       "    <tr>\n",
       "      <th>886</th>\n",
       "      <td>0</td>\n",
       "      <td>27.000000</td>\n",
       "      <td>1</td>\n",
       "      <td>0</td>\n",
       "      <td>1</td>\n",
       "      <td>1</td>\n",
       "      <td>0</td>\n",
       "      <td>0</td>\n",
       "      <td>0</td>\n",
       "      <td>0</td>\n",
       "      <td>0</td>\n",
       "      <td>0</td>\n",
       "      <td>0</td>\n",
       "      <td>1</td>\n",
       "      <td>0</td>\n",
       "    </tr>\n",
       "    <tr>\n",
       "      <th>887</th>\n",
       "      <td>1</td>\n",
       "      <td>19.000000</td>\n",
       "      <td>0</td>\n",
       "      <td>0</td>\n",
       "      <td>1</td>\n",
       "      <td>0</td>\n",
       "      <td>0</td>\n",
       "      <td>0</td>\n",
       "      <td>0</td>\n",
       "      <td>0</td>\n",
       "      <td>0</td>\n",
       "      <td>0</td>\n",
       "      <td>0</td>\n",
       "      <td>0</td>\n",
       "      <td>0</td>\n",
       "    </tr>\n",
       "    <tr>\n",
       "      <th>888</th>\n",
       "      <td>0</td>\n",
       "      <td>29.985856</td>\n",
       "      <td>0</td>\n",
       "      <td>0</td>\n",
       "      <td>1</td>\n",
       "      <td>0</td>\n",
       "      <td>1</td>\n",
       "      <td>1</td>\n",
       "      <td>0</td>\n",
       "      <td>0</td>\n",
       "      <td>0</td>\n",
       "      <td>0</td>\n",
       "      <td>0</td>\n",
       "      <td>0</td>\n",
       "      <td>1</td>\n",
       "    </tr>\n",
       "    <tr>\n",
       "      <th>889</th>\n",
       "      <td>1</td>\n",
       "      <td>26.000000</td>\n",
       "      <td>1</td>\n",
       "      <td>0</td>\n",
       "      <td>0</td>\n",
       "      <td>0</td>\n",
       "      <td>0</td>\n",
       "      <td>0</td>\n",
       "      <td>0</td>\n",
       "      <td>0</td>\n",
       "      <td>0</td>\n",
       "      <td>0</td>\n",
       "      <td>0</td>\n",
       "      <td>0</td>\n",
       "      <td>0</td>\n",
       "    </tr>\n",
       "    <tr>\n",
       "      <th>890</th>\n",
       "      <td>0</td>\n",
       "      <td>32.000000</td>\n",
       "      <td>1</td>\n",
       "      <td>1</td>\n",
       "      <td>0</td>\n",
       "      <td>0</td>\n",
       "      <td>1</td>\n",
       "      <td>0</td>\n",
       "      <td>0</td>\n",
       "      <td>0</td>\n",
       "      <td>0</td>\n",
       "      <td>0</td>\n",
       "      <td>0</td>\n",
       "      <td>0</td>\n",
       "      <td>1</td>\n",
       "    </tr>\n",
       "  </tbody>\n",
       "</table>\n",
       "<p>882 rows × 15 columns</p>\n",
       "</div>"
      ],
      "text/plain": [
       "     Survived        Age  male  Q  S  2  3  Sibsp__1  Sibsp__2  Sibsp__3  \\\n",
       "0           0  22.000000     1  0  1  0  1         1         0         0   \n",
       "1           1  38.000000     0  0  0  0  0         1         0         0   \n",
       "2           1  26.000000     0  0  1  0  1         0         0         0   \n",
       "3           1  35.000000     0  0  1  0  0         1         0         0   \n",
       "4           0  35.000000     1  0  1  0  1         0         0         0   \n",
       "..        ...        ...   ... .. .. .. ..       ...       ...       ...   \n",
       "886         0  27.000000     1  0  1  1  0         0         0         0   \n",
       "887         1  19.000000     0  0  1  0  0         0         0         0   \n",
       "888         0  29.985856     0  0  1  0  1         1         0         0   \n",
       "889         1  26.000000     1  0  0  0  0         0         0         0   \n",
       "890         0  32.000000     1  1  0  0  1         0         0         0   \n",
       "\n",
       "     Sibsp__4  Sibsp__5  Sibsp__8  Parch__2  Parch__3  \n",
       "0           0         0         0         0         1  \n",
       "1           0         0         0         0         0  \n",
       "2           0         0         0         0         1  \n",
       "3           0         0         0         0         0  \n",
       "4           0         0         0         0         1  \n",
       "..        ...       ...       ...       ...       ...  \n",
       "886         0         0         0         1         0  \n",
       "887         0         0         0         0         0  \n",
       "888         0         0         0         0         1  \n",
       "889         0         0         0         0         0  \n",
       "890         0         0         0         0         1  \n",
       "\n",
       "[882 rows x 15 columns]"
      ]
     },
     "execution_count": 4,
     "metadata": {},
     "output_type": "execute_result"
    }
   ],
   "source": [
    "data"
   ]
  },
  {
   "cell_type": "code",
   "execution_count": 5,
   "id": "7cca4c9e-43c7-4734-8077-18470be5a2eb",
   "metadata": {},
   "outputs": [],
   "source": [
    "X = data.drop('Survived',axis=1)\n",
    "y = data['Survived']"
   ]
  },
  {
   "cell_type": "code",
   "execution_count": 6,
   "id": "09e522b6-433b-4fa7-b7ab-388049f7be32",
   "metadata": {},
   "outputs": [],
   "source": [
    "X_train, X_test, y_train, y_test = train_test_split(X, y, test_size=0.2, random_state=101)"
   ]
  },
  {
   "cell_type": "code",
   "execution_count": 7,
   "id": "47b4ad79-049f-46b5-97b2-29df89a911df",
   "metadata": {},
   "outputs": [
    {
     "name": "stderr",
     "output_type": "stream",
     "text": [
      "C:\\Users\\Marcelojtc\\anaconda3\\lib\\site-packages\\sklearn\\utils\\validation.py:1688: FutureWarning: Feature names only support names that are all strings. Got feature names with dtypes: ['int', 'str']. An error will be raised in 1.2.\n",
      "  warnings.warn(\n",
      "C:\\Users\\Marcelojtc\\anaconda3\\lib\\site-packages\\sklearn\\utils\\validation.py:1688: FutureWarning: Feature names only support names that are all strings. Got feature names with dtypes: ['int', 'str']. An error will be raised in 1.2.\n",
      "  warnings.warn(\n",
      "C:\\Users\\Marcelojtc\\anaconda3\\lib\\site-packages\\sklearn\\utils\\validation.py:1688: FutureWarning: Feature names only support names that are all strings. Got feature names with dtypes: ['int', 'str']. An error will be raised in 1.2.\n",
      "  warnings.warn(\n"
     ]
    }
   ],
   "source": [
    "scaler_x = MinMaxScaler()\n",
    "X_train_scaled = scaler_x.fit_transform(X_train)\n",
    "X_test_scaled = scaler_x.transform(X_test)"
   ]
  },
  {
   "cell_type": "markdown",
   "id": "c8359991-3e5b-4204-9141-e0b973cdfcbf",
   "metadata": {},
   "source": [
    "## __Importante Diferencia : Internamente TensorFlow Convierte La Información A Tensors__"
   ]
  },
  {
   "cell_type": "markdown",
   "id": "83c29e69-9fb0-4e59-9d0b-20c75c8bacb8",
   "metadata": {},
   "source": [
    "## Diseñando La Red : Sequential API"
   ]
  },
  {
   "cell_type": "code",
   "execution_count": 8,
   "id": "37d6781d-8a84-443b-9918-606a63375bde",
   "metadata": {},
   "outputs": [
    {
     "data": {
      "text/plain": [
       "14"
      ]
     },
     "execution_count": 8,
     "metadata": {},
     "output_type": "execute_result"
    }
   ],
   "source": [
    "X_train.shape[1]"
   ]
  },
  {
   "cell_type": "code",
   "execution_count": 9,
   "id": "3f70006e-4201-40d0-9d37-58b4f7275b22",
   "metadata": {},
   "outputs": [],
   "source": [
    "model = Sequential([\n",
    "    Dense(100, activation='relu', input_shape=(X_train.shape[1],)),\n",
    "    Dense(300, activation='relu'),\n",
    "    Dense(200, activation='relu'),\n",
    "    Dense(1, activation='sigmoid')\n",
    "])"
   ]
  },
  {
   "cell_type": "markdown",
   "id": "0a3118f9-ce47-4c3b-80f1-f68ff7c7e743",
   "metadata": {},
   "source": [
    "## Compilar Y Entrenar"
   ]
  },
  {
   "cell_type": "code",
   "execution_count": 10,
   "id": "41e80ad0-fbf4-4866-90bc-a456ed0d3af5",
   "metadata": {},
   "outputs": [],
   "source": [
    "model.compile(optimizer=Adam(learning_rate=0.001), loss='binary_crossentropy', metrics=['accuracy'])"
   ]
  },
  {
   "cell_type": "code",
   "execution_count": 11,
   "id": "09fc67ac-ba69-4558-8f58-26e19ad42833",
   "metadata": {
    "tags": []
   },
   "outputs": [
    {
     "name": "stdout",
     "output_type": "stream",
     "text": [
      "Epoch 1/50\n",
      "23/23 [==============================] - 3s 32ms/step - loss: 0.5448 - accuracy: 0.7191 - val_loss: 0.5658 - val_accuracy: 0.7006\n",
      "Epoch 2/50\n",
      "23/23 [==============================] - 0s 10ms/step - loss: 0.4762 - accuracy: 0.7915 - val_loss: 0.5173 - val_accuracy: 0.7740\n",
      "Epoch 3/50\n",
      "23/23 [==============================] - 0s 9ms/step - loss: 0.4305 - accuracy: 0.8142 - val_loss: 0.5253 - val_accuracy: 0.7627\n",
      "Epoch 4/50\n",
      "23/23 [==============================] - 0s 9ms/step - loss: 0.4292 - accuracy: 0.8184 - val_loss: 0.5064 - val_accuracy: 0.7627\n",
      "Epoch 5/50\n",
      "23/23 [==============================] - 0s 11ms/step - loss: 0.4342 - accuracy: 0.8071 - val_loss: 0.4978 - val_accuracy: 0.7571\n",
      "Epoch 6/50\n",
      "23/23 [==============================] - 0s 11ms/step - loss: 0.4169 - accuracy: 0.8156 - val_loss: 0.5079 - val_accuracy: 0.7458\n",
      "Epoch 7/50\n",
      "23/23 [==============================] - 0s 10ms/step - loss: 0.4059 - accuracy: 0.8284 - val_loss: 0.5106 - val_accuracy: 0.7627\n",
      "Epoch 8/50\n",
      "23/23 [==============================] - 0s 9ms/step - loss: 0.4060 - accuracy: 0.8326 - val_loss: 0.5187 - val_accuracy: 0.7514\n",
      "Epoch 9/50\n",
      "23/23 [==============================] - 0s 10ms/step - loss: 0.4084 - accuracy: 0.8298 - val_loss: 0.5274 - val_accuracy: 0.7345\n",
      "Epoch 10/50\n",
      "23/23 [==============================] - 0s 10ms/step - loss: 0.4071 - accuracy: 0.8312 - val_loss: 0.5161 - val_accuracy: 0.7514\n",
      "Epoch 11/50\n",
      "23/23 [==============================] - 0s 10ms/step - loss: 0.3977 - accuracy: 0.8426 - val_loss: 0.5163 - val_accuracy: 0.7514\n",
      "Epoch 12/50\n",
      "23/23 [==============================] - 0s 11ms/step - loss: 0.3914 - accuracy: 0.8411 - val_loss: 0.5203 - val_accuracy: 0.7401\n",
      "Epoch 13/50\n",
      "23/23 [==============================] - 0s 11ms/step - loss: 0.4063 - accuracy: 0.8227 - val_loss: 0.5095 - val_accuracy: 0.7458\n",
      "Epoch 14/50\n",
      "23/23 [==============================] - 0s 11ms/step - loss: 0.3941 - accuracy: 0.8355 - val_loss: 0.4980 - val_accuracy: 0.7514\n",
      "Epoch 15/50\n",
      "23/23 [==============================] - 0s 12ms/step - loss: 0.3925 - accuracy: 0.8397 - val_loss: 0.5160 - val_accuracy: 0.7627\n",
      "Epoch 16/50\n",
      "23/23 [==============================] - 0s 12ms/step - loss: 0.3944 - accuracy: 0.8312 - val_loss: 0.5196 - val_accuracy: 0.7627\n",
      "Epoch 17/50\n",
      "23/23 [==============================] - 0s 12ms/step - loss: 0.3882 - accuracy: 0.8312 - val_loss: 0.5116 - val_accuracy: 0.7514\n",
      "Epoch 18/50\n",
      "23/23 [==============================] - 0s 11ms/step - loss: 0.3853 - accuracy: 0.8468 - val_loss: 0.5071 - val_accuracy: 0.7571\n",
      "Epoch 19/50\n",
      "23/23 [==============================] - 0s 13ms/step - loss: 0.3827 - accuracy: 0.8482 - val_loss: 0.5116 - val_accuracy: 0.7571\n",
      "Epoch 20/50\n",
      "23/23 [==============================] - 0s 11ms/step - loss: 0.4253 - accuracy: 0.8199 - val_loss: 0.5350 - val_accuracy: 0.7514\n",
      "Epoch 21/50\n",
      "23/23 [==============================] - 0s 11ms/step - loss: 0.3879 - accuracy: 0.8411 - val_loss: 0.5119 - val_accuracy: 0.7288\n",
      "Epoch 22/50\n",
      "23/23 [==============================] - 0s 11ms/step - loss: 0.3825 - accuracy: 0.8411 - val_loss: 0.5210 - val_accuracy: 0.7514\n",
      "Epoch 23/50\n",
      "23/23 [==============================] - 0s 10ms/step - loss: 0.3798 - accuracy: 0.8411 - val_loss: 0.5291 - val_accuracy: 0.7232\n",
      "Epoch 24/50\n",
      "23/23 [==============================] - 0s 11ms/step - loss: 0.3838 - accuracy: 0.8383 - val_loss: 0.5247 - val_accuracy: 0.7571\n",
      "Epoch 25/50\n",
      "23/23 [==============================] - 0s 11ms/step - loss: 0.3835 - accuracy: 0.8454 - val_loss: 0.4941 - val_accuracy: 0.7684\n",
      "Epoch 26/50\n",
      "23/23 [==============================] - 0s 11ms/step - loss: 0.3888 - accuracy: 0.8383 - val_loss: 0.5098 - val_accuracy: 0.7740\n",
      "Epoch 27/50\n",
      "23/23 [==============================] - 0s 10ms/step - loss: 0.3880 - accuracy: 0.8326 - val_loss: 0.5131 - val_accuracy: 0.7627\n",
      "Epoch 28/50\n",
      "23/23 [==============================] - 0s 11ms/step - loss: 0.3874 - accuracy: 0.8227 - val_loss: 0.5067 - val_accuracy: 0.7571\n",
      "Epoch 29/50\n",
      "23/23 [==============================] - 0s 11ms/step - loss: 0.3784 - accuracy: 0.8411 - val_loss: 0.5192 - val_accuracy: 0.7627\n",
      "Epoch 30/50\n",
      "23/23 [==============================] - 0s 12ms/step - loss: 0.3692 - accuracy: 0.8482 - val_loss: 0.5181 - val_accuracy: 0.7571\n",
      "Epoch 31/50\n",
      "23/23 [==============================] - 0s 11ms/step - loss: 0.3780 - accuracy: 0.8511 - val_loss: 0.5217 - val_accuracy: 0.7684\n",
      "Epoch 32/50\n",
      "23/23 [==============================] - 0s 11ms/step - loss: 0.3699 - accuracy: 0.8553 - val_loss: 0.5305 - val_accuracy: 0.7627\n",
      "Epoch 33/50\n",
      "23/23 [==============================] - 0s 12ms/step - loss: 0.3819 - accuracy: 0.8454 - val_loss: 0.4946 - val_accuracy: 0.7684\n",
      "Epoch 34/50\n",
      "23/23 [==============================] - 0s 11ms/step - loss: 0.3716 - accuracy: 0.8496 - val_loss: 0.5238 - val_accuracy: 0.7684\n",
      "Epoch 35/50\n",
      "23/23 [==============================] - 0s 11ms/step - loss: 0.3778 - accuracy: 0.8383 - val_loss: 0.5084 - val_accuracy: 0.7627\n",
      "Epoch 36/50\n",
      "23/23 [==============================] - 0s 13ms/step - loss: 0.3640 - accuracy: 0.8511 - val_loss: 0.5136 - val_accuracy: 0.7627\n",
      "Epoch 37/50\n",
      "23/23 [==============================] - 0s 12ms/step - loss: 0.3760 - accuracy: 0.8383 - val_loss: 0.4993 - val_accuracy: 0.7571\n",
      "Epoch 38/50\n",
      "23/23 [==============================] - 0s 11ms/step - loss: 0.4162 - accuracy: 0.8199 - val_loss: 0.5136 - val_accuracy: 0.7401\n",
      "Epoch 39/50\n",
      "23/23 [==============================] - 0s 10ms/step - loss: 0.3897 - accuracy: 0.8411 - val_loss: 0.5403 - val_accuracy: 0.7571\n",
      "Epoch 40/50\n",
      "23/23 [==============================] - 0s 10ms/step - loss: 0.3758 - accuracy: 0.8397 - val_loss: 0.5419 - val_accuracy: 0.7514\n",
      "Epoch 41/50\n",
      "23/23 [==============================] - 0s 10ms/step - loss: 0.3715 - accuracy: 0.8454 - val_loss: 0.5182 - val_accuracy: 0.7232\n",
      "Epoch 42/50\n",
      "23/23 [==============================] - 0s 10ms/step - loss: 0.4024 - accuracy: 0.8454 - val_loss: 0.5098 - val_accuracy: 0.7627\n",
      "Epoch 43/50\n",
      "23/23 [==============================] - 0s 11ms/step - loss: 0.3696 - accuracy: 0.8482 - val_loss: 0.5206 - val_accuracy: 0.7627\n",
      "Epoch 44/50\n",
      "23/23 [==============================] - 0s 13ms/step - loss: 0.3617 - accuracy: 0.8553 - val_loss: 0.5287 - val_accuracy: 0.7571\n",
      "Epoch 45/50\n",
      "23/23 [==============================] - 0s 12ms/step - loss: 0.3594 - accuracy: 0.8553 - val_loss: 0.5312 - val_accuracy: 0.7571\n",
      "Epoch 46/50\n",
      "23/23 [==============================] - 0s 11ms/step - loss: 0.3622 - accuracy: 0.8525 - val_loss: 0.5278 - val_accuracy: 0.7514\n",
      "Epoch 47/50\n",
      "23/23 [==============================] - 0s 11ms/step - loss: 0.3634 - accuracy: 0.8482 - val_loss: 0.5461 - val_accuracy: 0.7514\n",
      "Epoch 48/50\n",
      "23/23 [==============================] - 0s 11ms/step - loss: 0.3596 - accuracy: 0.8482 - val_loss: 0.5229 - val_accuracy: 0.7514\n",
      "Epoch 49/50\n",
      "23/23 [==============================] - 0s 11ms/step - loss: 0.3561 - accuracy: 0.8553 - val_loss: 0.5384 - val_accuracy: 0.7514\n",
      "Epoch 50/50\n",
      "23/23 [==============================] - 0s 11ms/step - loss: 0.3609 - accuracy: 0.8454 - val_loss: 0.5296 - val_accuracy: 0.7458\n"
     ]
    }
   ],
   "source": [
    "history = model.fit(X_train_scaled, y_train, epochs=50, validation_data=(X_test_scaled, y_test))"
   ]
  },
  {
   "cell_type": "markdown",
   "id": "1b2b730c-6492-4ee3-bd7e-309d7c5f639e",
   "metadata": {},
   "source": [
    "## Predicciones Y Evaluación"
   ]
  },
  {
   "cell_type": "code",
   "execution_count": 12,
   "id": "1ae0557f-d290-4bbc-ba23-ba5dcd19d3c9",
   "metadata": {},
   "outputs": [
    {
     "name": "stdout",
     "output_type": "stream",
     "text": [
      "6/6 [==============================] - 0s 6ms/step - loss: 0.5296 - accuracy: 0.7458\n"
     ]
    }
   ],
   "source": [
    "loss, accuracy = model.evaluate(X_test_scaled, y_test)"
   ]
  },
  {
   "cell_type": "code",
   "execution_count": 13,
   "id": "15bc0922-b708-4061-a942-2a7541803030",
   "metadata": {},
   "outputs": [
    {
     "name": "stdout",
     "output_type": "stream",
     "text": [
      "6/6 [==============================] - 0s 5ms/step\n"
     ]
    }
   ],
   "source": [
    "predicciones = model.predict(X_test_scaled)"
   ]
  },
  {
   "cell_type": "code",
   "execution_count": 14,
   "id": "241e5f15-770b-4221-9783-ec0a7fd2bb84",
   "metadata": {},
   "outputs": [
    {
     "data": {
      "text/plain": [
       "array([[0.21217962],\n",
       "       [0.01821691],\n",
       "       [0.07559785],\n",
       "       [0.4360205 ],\n",
       "       [0.04204985]], dtype=float32)"
      ]
     },
     "execution_count": 14,
     "metadata": {},
     "output_type": "execute_result"
    }
   ],
   "source": [
    "predicciones[:5]"
   ]
  },
  {
   "cell_type": "markdown",
   "id": "5beefca2-bb65-443b-90b0-becad50ba8e9",
   "metadata": {},
   "source": [
    "### __Notar Que Las Predicciones Son Numpy Arrays__"
   ]
  },
  {
   "cell_type": "code",
   "execution_count": 15,
   "id": "f0596d27-771d-44a2-a633-db4cbcea7b4b",
   "metadata": {},
   "outputs": [],
   "source": [
    "from sklearn.metrics import classification_report"
   ]
  },
  {
   "cell_type": "code",
   "execution_count": 16,
   "id": "4bbe0293-976d-4cb8-bcbe-d0bf67f91131",
   "metadata": {},
   "outputs": [],
   "source": [
    "predicciones = np.round(predicciones)"
   ]
  },
  {
   "cell_type": "code",
   "execution_count": 18,
   "id": "71c83096-02d8-4bad-a095-e494bfd9016b",
   "metadata": {},
   "outputs": [
    {
     "data": {
      "text/plain": [
       "array([[0.],\n",
       "       [0.],\n",
       "       [0.],\n",
       "       [0.],\n",
       "       [0.]], dtype=float32)"
      ]
     },
     "execution_count": 18,
     "metadata": {},
     "output_type": "execute_result"
    }
   ],
   "source": [
    "predicciones[:5]"
   ]
  },
  {
   "cell_type": "code",
   "execution_count": 19,
   "id": "a1f8e894-e359-4352-83e2-a6dfcdf58896",
   "metadata": {},
   "outputs": [
    {
     "name": "stdout",
     "output_type": "stream",
     "text": [
      "              precision    recall  f1-score   support\n",
      "\n",
      "           0       0.76      0.86      0.81       108\n",
      "           1       0.72      0.57      0.63        69\n",
      "\n",
      "    accuracy                           0.75       177\n",
      "   macro avg       0.74      0.71      0.72       177\n",
      "weighted avg       0.74      0.75      0.74       177\n",
      "\n"
     ]
    }
   ],
   "source": [
    "print(classification_report(y_test,predicciones))."
   ]
  },
  {
   "cell_type": "code",
   "execution_count": null,
   "id": "aaf90191-f331-4639-929d-ca1a49d38338",
   "metadata": {},
   "outputs": [],
   "source": []
  }
 ],
 "metadata": {
  "kernelspec": {
   "display_name": "Python 3 (ipykernel)",
   "language": "python",
   "name": "python3"
  },
  "language_info": {
   "codemirror_mode": {
    "name": "ipython",
    "version": 3
   },
   "file_extension": ".py",
   "mimetype": "text/x-python",
   "name": "python",
   "nbconvert_exporter": "python",
   "pygments_lexer": "ipython3",
   "version": "3.9.13"
  }
 },
 "nbformat": 4,
 "nbformat_minor": 5
}
