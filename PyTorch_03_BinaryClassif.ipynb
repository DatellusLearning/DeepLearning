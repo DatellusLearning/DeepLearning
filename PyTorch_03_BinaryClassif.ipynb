{
 "cells": [
  {
   "cell_type": "markdown",
   "id": "dc82ab1b-38e1-45b7-b8ea-53b96228b619",
   "metadata": {},
   "source": [
    "# __PyTorch 03 : Clasificación Binaria__"
   ]
  },
  {
   "cell_type": "markdown",
   "id": "9d97808b-ba84-49d2-856b-4b7a58ca8a77",
   "metadata": {},
   "source": [
    "De forma similar a como lo hicimos en un par de videos atrás, vamos a recrear el problema del __Titanic__, pero usando PyTorch"
   ]
  },
  {
   "cell_type": "code",
   "execution_count": 24,
   "id": "21169834-c10d-45c3-922b-7a2e81cbfef3",
   "metadata": {},
   "outputs": [],
   "source": [
    "import torch\n",
    "import torch.nn as nn\n",
    "import torch.optim as optim\n",
    "from sklearn.model_selection import train_test_split\n",
    "from sklearn.preprocessing import MinMaxScaler\n",
    "import numpy as np\n",
    "import pandas as pd"
   ]
  },
  {
   "cell_type": "code",
   "execution_count": 25,
   "id": "5a570645-3f0b-48c3-8098-88ebbc2ed80c",
   "metadata": {},
   "outputs": [],
   "source": [
    "data = pd.read_pickle(\"datasets/TitanicTorch.pkl\")"
   ]
  },
  {
   "cell_type": "code",
   "execution_count": 26,
   "id": "aa42c29f-156b-48c2-8d70-df83a1fe03d4",
   "metadata": {},
   "outputs": [
    {
     "data": {
      "text/html": [
       "<div>\n",
       "<style scoped>\n",
       "    .dataframe tbody tr th:only-of-type {\n",
       "        vertical-align: middle;\n",
       "    }\n",
       "\n",
       "    .dataframe tbody tr th {\n",
       "        vertical-align: top;\n",
       "    }\n",
       "\n",
       "    .dataframe thead th {\n",
       "        text-align: right;\n",
       "    }\n",
       "</style>\n",
       "<table border=\"1\" class=\"dataframe\">\n",
       "  <thead>\n",
       "    <tr style=\"text-align: right;\">\n",
       "      <th></th>\n",
       "      <th>Survived</th>\n",
       "      <th>Age</th>\n",
       "      <th>male</th>\n",
       "      <th>Q</th>\n",
       "      <th>S</th>\n",
       "      <th>2</th>\n",
       "      <th>3</th>\n",
       "      <th>Sibsp__1</th>\n",
       "      <th>Sibsp__2</th>\n",
       "      <th>Sibsp__3</th>\n",
       "      <th>Sibsp__4</th>\n",
       "      <th>Sibsp__5</th>\n",
       "      <th>Sibsp__8</th>\n",
       "      <th>Parch__2</th>\n",
       "      <th>Parch__3</th>\n",
       "    </tr>\n",
       "  </thead>\n",
       "  <tbody>\n",
       "    <tr>\n",
       "      <th>0</th>\n",
       "      <td>0</td>\n",
       "      <td>22.000000</td>\n",
       "      <td>1</td>\n",
       "      <td>0</td>\n",
       "      <td>1</td>\n",
       "      <td>0</td>\n",
       "      <td>1</td>\n",
       "      <td>1</td>\n",
       "      <td>0</td>\n",
       "      <td>0</td>\n",
       "      <td>0</td>\n",
       "      <td>0</td>\n",
       "      <td>0</td>\n",
       "      <td>0</td>\n",
       "      <td>1</td>\n",
       "    </tr>\n",
       "    <tr>\n",
       "      <th>1</th>\n",
       "      <td>1</td>\n",
       "      <td>38.000000</td>\n",
       "      <td>0</td>\n",
       "      <td>0</td>\n",
       "      <td>0</td>\n",
       "      <td>0</td>\n",
       "      <td>0</td>\n",
       "      <td>1</td>\n",
       "      <td>0</td>\n",
       "      <td>0</td>\n",
       "      <td>0</td>\n",
       "      <td>0</td>\n",
       "      <td>0</td>\n",
       "      <td>0</td>\n",
       "      <td>0</td>\n",
       "    </tr>\n",
       "    <tr>\n",
       "      <th>2</th>\n",
       "      <td>1</td>\n",
       "      <td>26.000000</td>\n",
       "      <td>0</td>\n",
       "      <td>0</td>\n",
       "      <td>1</td>\n",
       "      <td>0</td>\n",
       "      <td>1</td>\n",
       "      <td>0</td>\n",
       "      <td>0</td>\n",
       "      <td>0</td>\n",
       "      <td>0</td>\n",
       "      <td>0</td>\n",
       "      <td>0</td>\n",
       "      <td>0</td>\n",
       "      <td>1</td>\n",
       "    </tr>\n",
       "    <tr>\n",
       "      <th>3</th>\n",
       "      <td>1</td>\n",
       "      <td>35.000000</td>\n",
       "      <td>0</td>\n",
       "      <td>0</td>\n",
       "      <td>1</td>\n",
       "      <td>0</td>\n",
       "      <td>0</td>\n",
       "      <td>1</td>\n",
       "      <td>0</td>\n",
       "      <td>0</td>\n",
       "      <td>0</td>\n",
       "      <td>0</td>\n",
       "      <td>0</td>\n",
       "      <td>0</td>\n",
       "      <td>0</td>\n",
       "    </tr>\n",
       "    <tr>\n",
       "      <th>4</th>\n",
       "      <td>0</td>\n",
       "      <td>35.000000</td>\n",
       "      <td>1</td>\n",
       "      <td>0</td>\n",
       "      <td>1</td>\n",
       "      <td>0</td>\n",
       "      <td>1</td>\n",
       "      <td>0</td>\n",
       "      <td>0</td>\n",
       "      <td>0</td>\n",
       "      <td>0</td>\n",
       "      <td>0</td>\n",
       "      <td>0</td>\n",
       "      <td>0</td>\n",
       "      <td>1</td>\n",
       "    </tr>\n",
       "    <tr>\n",
       "      <th>...</th>\n",
       "      <td>...</td>\n",
       "      <td>...</td>\n",
       "      <td>...</td>\n",
       "      <td>...</td>\n",
       "      <td>...</td>\n",
       "      <td>...</td>\n",
       "      <td>...</td>\n",
       "      <td>...</td>\n",
       "      <td>...</td>\n",
       "      <td>...</td>\n",
       "      <td>...</td>\n",
       "      <td>...</td>\n",
       "      <td>...</td>\n",
       "      <td>...</td>\n",
       "      <td>...</td>\n",
       "    </tr>\n",
       "    <tr>\n",
       "      <th>886</th>\n",
       "      <td>0</td>\n",
       "      <td>27.000000</td>\n",
       "      <td>1</td>\n",
       "      <td>0</td>\n",
       "      <td>1</td>\n",
       "      <td>1</td>\n",
       "      <td>0</td>\n",
       "      <td>0</td>\n",
       "      <td>0</td>\n",
       "      <td>0</td>\n",
       "      <td>0</td>\n",
       "      <td>0</td>\n",
       "      <td>0</td>\n",
       "      <td>1</td>\n",
       "      <td>0</td>\n",
       "    </tr>\n",
       "    <tr>\n",
       "      <th>887</th>\n",
       "      <td>1</td>\n",
       "      <td>19.000000</td>\n",
       "      <td>0</td>\n",
       "      <td>0</td>\n",
       "      <td>1</td>\n",
       "      <td>0</td>\n",
       "      <td>0</td>\n",
       "      <td>0</td>\n",
       "      <td>0</td>\n",
       "      <td>0</td>\n",
       "      <td>0</td>\n",
       "      <td>0</td>\n",
       "      <td>0</td>\n",
       "      <td>0</td>\n",
       "      <td>0</td>\n",
       "    </tr>\n",
       "    <tr>\n",
       "      <th>888</th>\n",
       "      <td>0</td>\n",
       "      <td>29.985856</td>\n",
       "      <td>0</td>\n",
       "      <td>0</td>\n",
       "      <td>1</td>\n",
       "      <td>0</td>\n",
       "      <td>1</td>\n",
       "      <td>1</td>\n",
       "      <td>0</td>\n",
       "      <td>0</td>\n",
       "      <td>0</td>\n",
       "      <td>0</td>\n",
       "      <td>0</td>\n",
       "      <td>0</td>\n",
       "      <td>1</td>\n",
       "    </tr>\n",
       "    <tr>\n",
       "      <th>889</th>\n",
       "      <td>1</td>\n",
       "      <td>26.000000</td>\n",
       "      <td>1</td>\n",
       "      <td>0</td>\n",
       "      <td>0</td>\n",
       "      <td>0</td>\n",
       "      <td>0</td>\n",
       "      <td>0</td>\n",
       "      <td>0</td>\n",
       "      <td>0</td>\n",
       "      <td>0</td>\n",
       "      <td>0</td>\n",
       "      <td>0</td>\n",
       "      <td>0</td>\n",
       "      <td>0</td>\n",
       "    </tr>\n",
       "    <tr>\n",
       "      <th>890</th>\n",
       "      <td>0</td>\n",
       "      <td>32.000000</td>\n",
       "      <td>1</td>\n",
       "      <td>1</td>\n",
       "      <td>0</td>\n",
       "      <td>0</td>\n",
       "      <td>1</td>\n",
       "      <td>0</td>\n",
       "      <td>0</td>\n",
       "      <td>0</td>\n",
       "      <td>0</td>\n",
       "      <td>0</td>\n",
       "      <td>0</td>\n",
       "      <td>0</td>\n",
       "      <td>1</td>\n",
       "    </tr>\n",
       "  </tbody>\n",
       "</table>\n",
       "<p>882 rows × 15 columns</p>\n",
       "</div>"
      ],
      "text/plain": [
       "     Survived        Age  male  Q  S  2  3  Sibsp__1  Sibsp__2  Sibsp__3  \\\n",
       "0           0  22.000000     1  0  1  0  1         1         0         0   \n",
       "1           1  38.000000     0  0  0  0  0         1         0         0   \n",
       "2           1  26.000000     0  0  1  0  1         0         0         0   \n",
       "3           1  35.000000     0  0  1  0  0         1         0         0   \n",
       "4           0  35.000000     1  0  1  0  1         0         0         0   \n",
       "..        ...        ...   ... .. .. .. ..       ...       ...       ...   \n",
       "886         0  27.000000     1  0  1  1  0         0         0         0   \n",
       "887         1  19.000000     0  0  1  0  0         0         0         0   \n",
       "888         0  29.985856     0  0  1  0  1         1         0         0   \n",
       "889         1  26.000000     1  0  0  0  0         0         0         0   \n",
       "890         0  32.000000     1  1  0  0  1         0         0         0   \n",
       "\n",
       "     Sibsp__4  Sibsp__5  Sibsp__8  Parch__2  Parch__3  \n",
       "0           0         0         0         0         1  \n",
       "1           0         0         0         0         0  \n",
       "2           0         0         0         0         1  \n",
       "3           0         0         0         0         0  \n",
       "4           0         0         0         0         1  \n",
       "..        ...       ...       ...       ...       ...  \n",
       "886         0         0         0         1         0  \n",
       "887         0         0         0         0         0  \n",
       "888         0         0         0         0         1  \n",
       "889         0         0         0         0         0  \n",
       "890         0         0         0         0         1  \n",
       "\n",
       "[882 rows x 15 columns]"
      ]
     },
     "execution_count": 26,
     "metadata": {},
     "output_type": "execute_result"
    }
   ],
   "source": [
    "data"
   ]
  },
  {
   "cell_type": "code",
   "execution_count": 27,
   "id": "c5f9d2bc-af98-4429-856f-34860611220f",
   "metadata": {},
   "outputs": [],
   "source": [
    "X = data.drop('Survived',axis=1)\n",
    "y = data['Survived']"
   ]
  },
  {
   "cell_type": "code",
   "execution_count": 28,
   "id": "eab0e662-6e7e-4dd2-8c5f-aa3988aed251",
   "metadata": {},
   "outputs": [],
   "source": [
    "X_train, X_test, y_train, y_test = train_test_split(X, y, test_size=0.2, random_state=101)"
   ]
  },
  {
   "cell_type": "code",
   "execution_count": 29,
   "id": "8c09c8f2-01ab-4e80-bd05-011605b60c85",
   "metadata": {},
   "outputs": [
    {
     "name": "stderr",
     "output_type": "stream",
     "text": [
      "C:\\Users\\Marcelojtc\\anaconda3\\lib\\site-packages\\sklearn\\utils\\validation.py:1688: FutureWarning: Feature names only support names that are all strings. Got feature names with dtypes: ['int', 'str']. An error will be raised in 1.2.\n",
      "  warnings.warn(\n",
      "C:\\Users\\Marcelojtc\\anaconda3\\lib\\site-packages\\sklearn\\utils\\validation.py:1688: FutureWarning: Feature names only support names that are all strings. Got feature names with dtypes: ['int', 'str']. An error will be raised in 1.2.\n",
      "  warnings.warn(\n",
      "C:\\Users\\Marcelojtc\\anaconda3\\lib\\site-packages\\sklearn\\utils\\validation.py:1688: FutureWarning: Feature names only support names that are all strings. Got feature names with dtypes: ['int', 'str']. An error will be raised in 1.2.\n",
      "  warnings.warn(\n"
     ]
    }
   ],
   "source": [
    "scaler_x = MinMaxScaler()\n",
    "X_train_scaled = scaler_x.fit_transform(X_train)\n",
    "X_test_scaled = scaler_x.transform(X_test)"
   ]
  },
  {
   "cell_type": "markdown",
   "id": "583e781f-746b-407e-a0f8-9c3f8ac63916",
   "metadata": {},
   "source": [
    "## Convirtiendo a Tensors"
   ]
  },
  {
   "cell_type": "code",
   "execution_count": 30,
   "id": "997b8a8b-e23a-4b59-a0ec-24baaa1a8363",
   "metadata": {},
   "outputs": [],
   "source": [
    "X_train_tensor = torch.tensor(X_train_scaled, dtype=torch.float32)\n",
    "y_train_tensor = torch.tensor(y_train.values, dtype=torch.float32)\n",
    "X_test_tensor = torch.tensor(X_test_scaled, dtype=torch.float32)\n",
    "y_test_tensor = torch.tensor(y_test.values, dtype=torch.float32)"
   ]
  },
  {
   "cell_type": "markdown",
   "id": "5fef17e3-80e8-4f7e-aab5-f74d25c94dbb",
   "metadata": {},
   "source": [
    "## __Diseñando la Red__"
   ]
  },
  {
   "cell_type": "code",
   "execution_count": 31,
   "id": "16bd0fc3-00e4-47ca-ba9b-4f0afa6ae677",
   "metadata": {},
   "outputs": [
    {
     "data": {
      "text/plain": [
       "torch.Size([705, 14])"
      ]
     },
     "execution_count": 31,
     "metadata": {},
     "output_type": "execute_result"
    }
   ],
   "source": [
    "X_train_tensor.shape"
   ]
  },
  {
   "cell_type": "code",
   "execution_count": 10,
   "id": "de0a5b84-d423-425e-8bc0-8ab60b846e7b",
   "metadata": {},
   "outputs": [],
   "source": [
    "class BinaryClassificationModel(nn.Module):\n",
    "    def __init__(self):\n",
    "        super(BinaryClassificationModel, self).__init__()\n",
    "        self.fc1 = nn.Linear(X_train.shape[1], 100)  \n",
    "        self.fc2 = nn.Linear(100, 300)\n",
    "        self.fc3 = nn.Linear(300, 200)\n",
    "        self.fc4 = nn.Linear(200, 1)\n",
    "        self.sigmoid = nn.Sigmoid()\n",
    "\n",
    "    def forward(self, x):\n",
    "        x = torch.relu(self.fc1(x))\n",
    "        x = torch.relu(self.fc2(x))\n",
    "        x = torch.relu(self.fc3(x))\n",
    "        x = self.fc4(x)\n",
    "        x = self.sigmoid(x)\n",
    "        return x"
   ]
  },
  {
   "cell_type": "markdown",
   "id": "2dbb41ae-9b88-4975-8d22-8ac5b5d15c8e",
   "metadata": {},
   "source": [
    "# __Instanciando El Modelo__"
   ]
  },
  {
   "cell_type": "code",
   "execution_count": 35,
   "id": "ebf8f9ac-25c6-4883-a72f-2e6885e2c1cc",
   "metadata": {},
   "outputs": [],
   "source": [
    "model = BinaryClassificationModel()"
   ]
  },
  {
   "cell_type": "code",
   "execution_count": 36,
   "id": "a2268ba5-daf5-48f8-b098-d37c055df891",
   "metadata": {},
   "outputs": [],
   "source": [
    "perdida = nn.BCELoss()"
   ]
  },
  {
   "cell_type": "code",
   "execution_count": 37,
   "id": "214a0500-f814-4893-b541-13b21ed79624",
   "metadata": {},
   "outputs": [],
   "source": [
    "optimizador = optim.Adam(model.parameters(), lr=0.001)"
   ]
  },
  {
   "cell_type": "markdown",
   "id": "b0157839-769a-4796-9d9b-728f17bbdaff",
   "metadata": {},
   "source": [
    "# __Entrenando El Modelo__"
   ]
  },
  {
   "cell_type": "code",
   "execution_count": 38,
   "id": "df3a30bc-709b-470e-96c6-40a3e4ccaad5",
   "metadata": {},
   "outputs": [
    {
     "ename": "ValueError",
     "evalue": "Using a target size (torch.Size([705])) that is different to the input size (torch.Size([705, 1])) is deprecated. Please ensure they have the same size.",
     "output_type": "error",
     "traceback": [
      "\u001b[1;31m---------------------------------------------------------------------------\u001b[0m",
      "\u001b[1;31mValueError\u001b[0m                                Traceback (most recent call last)",
      "\u001b[1;32m~\\AppData\\Local\\Temp\\ipykernel_16232\\441799371.py\u001b[0m in \u001b[0;36m<module>\u001b[1;34m\u001b[0m\n\u001b[0;32m      4\u001b[0m     \u001b[0moptimizador\u001b[0m\u001b[1;33m.\u001b[0m\u001b[0mzero_grad\u001b[0m\u001b[1;33m(\u001b[0m\u001b[1;33m)\u001b[0m\u001b[1;33m\u001b[0m\u001b[1;33m\u001b[0m\u001b[0m\n\u001b[0;32m      5\u001b[0m     \u001b[0moutputs\u001b[0m \u001b[1;33m=\u001b[0m \u001b[0mmodel\u001b[0m\u001b[1;33m(\u001b[0m\u001b[0mX_train_tensor\u001b[0m\u001b[1;33m)\u001b[0m\u001b[1;33m\u001b[0m\u001b[1;33m\u001b[0m\u001b[0m\n\u001b[1;32m----> 6\u001b[1;33m     \u001b[0mloss\u001b[0m \u001b[1;33m=\u001b[0m \u001b[0mperdida\u001b[0m\u001b[1;33m(\u001b[0m\u001b[0moutputs\u001b[0m\u001b[1;33m,\u001b[0m \u001b[0my_train_tensor\u001b[0m\u001b[1;33m)\u001b[0m\u001b[1;33m\u001b[0m\u001b[1;33m\u001b[0m\u001b[0m\n\u001b[0m\u001b[0;32m      7\u001b[0m     \u001b[0mloss\u001b[0m\u001b[1;33m.\u001b[0m\u001b[0mbackward\u001b[0m\u001b[1;33m(\u001b[0m\u001b[1;33m)\u001b[0m\u001b[1;33m\u001b[0m\u001b[1;33m\u001b[0m\u001b[0m\n\u001b[0;32m      8\u001b[0m     \u001b[0moptimizadr\u001b[0m\u001b[1;33m.\u001b[0m\u001b[0mstep\u001b[0m\u001b[1;33m(\u001b[0m\u001b[1;33m)\u001b[0m\u001b[1;33m\u001b[0m\u001b[1;33m\u001b[0m\u001b[0m\n",
      "\u001b[1;32m~\\anaconda3\\lib\\site-packages\\torch\\nn\\modules\\module.py\u001b[0m in \u001b[0;36m_call_impl\u001b[1;34m(self, *args, **kwargs)\u001b[0m\n\u001b[0;32m   1499\u001b[0m                 \u001b[1;32mor\u001b[0m \u001b[0m_global_backward_pre_hooks\u001b[0m \u001b[1;32mor\u001b[0m \u001b[0m_global_backward_hooks\u001b[0m\u001b[1;33m\u001b[0m\u001b[1;33m\u001b[0m\u001b[0m\n\u001b[0;32m   1500\u001b[0m                 or _global_forward_hooks or _global_forward_pre_hooks):\n\u001b[1;32m-> 1501\u001b[1;33m             \u001b[1;32mreturn\u001b[0m \u001b[0mforward_call\u001b[0m\u001b[1;33m(\u001b[0m\u001b[1;33m*\u001b[0m\u001b[0margs\u001b[0m\u001b[1;33m,\u001b[0m \u001b[1;33m**\u001b[0m\u001b[0mkwargs\u001b[0m\u001b[1;33m)\u001b[0m\u001b[1;33m\u001b[0m\u001b[1;33m\u001b[0m\u001b[0m\n\u001b[0m\u001b[0;32m   1502\u001b[0m         \u001b[1;31m# Do not call functions when jit is used\u001b[0m\u001b[1;33m\u001b[0m\u001b[1;33m\u001b[0m\u001b[0m\n\u001b[0;32m   1503\u001b[0m         \u001b[0mfull_backward_hooks\u001b[0m\u001b[1;33m,\u001b[0m \u001b[0mnon_full_backward_hooks\u001b[0m \u001b[1;33m=\u001b[0m \u001b[1;33m[\u001b[0m\u001b[1;33m]\u001b[0m\u001b[1;33m,\u001b[0m \u001b[1;33m[\u001b[0m\u001b[1;33m]\u001b[0m\u001b[1;33m\u001b[0m\u001b[1;33m\u001b[0m\u001b[0m\n",
      "\u001b[1;32m~\\anaconda3\\lib\\site-packages\\torch\\nn\\modules\\loss.py\u001b[0m in \u001b[0;36mforward\u001b[1;34m(self, input, target)\u001b[0m\n\u001b[0;32m    617\u001b[0m \u001b[1;33m\u001b[0m\u001b[0m\n\u001b[0;32m    618\u001b[0m     \u001b[1;32mdef\u001b[0m \u001b[0mforward\u001b[0m\u001b[1;33m(\u001b[0m\u001b[0mself\u001b[0m\u001b[1;33m,\u001b[0m \u001b[0minput\u001b[0m\u001b[1;33m:\u001b[0m \u001b[0mTensor\u001b[0m\u001b[1;33m,\u001b[0m \u001b[0mtarget\u001b[0m\u001b[1;33m:\u001b[0m \u001b[0mTensor\u001b[0m\u001b[1;33m)\u001b[0m \u001b[1;33m->\u001b[0m \u001b[0mTensor\u001b[0m\u001b[1;33m:\u001b[0m\u001b[1;33m\u001b[0m\u001b[1;33m\u001b[0m\u001b[0m\n\u001b[1;32m--> 619\u001b[1;33m         \u001b[1;32mreturn\u001b[0m \u001b[0mF\u001b[0m\u001b[1;33m.\u001b[0m\u001b[0mbinary_cross_entropy\u001b[0m\u001b[1;33m(\u001b[0m\u001b[0minput\u001b[0m\u001b[1;33m,\u001b[0m \u001b[0mtarget\u001b[0m\u001b[1;33m,\u001b[0m \u001b[0mweight\u001b[0m\u001b[1;33m=\u001b[0m\u001b[0mself\u001b[0m\u001b[1;33m.\u001b[0m\u001b[0mweight\u001b[0m\u001b[1;33m,\u001b[0m \u001b[0mreduction\u001b[0m\u001b[1;33m=\u001b[0m\u001b[0mself\u001b[0m\u001b[1;33m.\u001b[0m\u001b[0mreduction\u001b[0m\u001b[1;33m)\u001b[0m\u001b[1;33m\u001b[0m\u001b[1;33m\u001b[0m\u001b[0m\n\u001b[0m\u001b[0;32m    620\u001b[0m \u001b[1;33m\u001b[0m\u001b[0m\n\u001b[0;32m    621\u001b[0m \u001b[1;33m\u001b[0m\u001b[0m\n",
      "\u001b[1;32m~\\anaconda3\\lib\\site-packages\\torch\\nn\\functional.py\u001b[0m in \u001b[0;36mbinary_cross_entropy\u001b[1;34m(input, target, weight, size_average, reduce, reduction)\u001b[0m\n\u001b[0;32m   3087\u001b[0m         \u001b[0mreduction_enum\u001b[0m \u001b[1;33m=\u001b[0m \u001b[0m_Reduction\u001b[0m\u001b[1;33m.\u001b[0m\u001b[0mget_enum\u001b[0m\u001b[1;33m(\u001b[0m\u001b[0mreduction\u001b[0m\u001b[1;33m)\u001b[0m\u001b[1;33m\u001b[0m\u001b[1;33m\u001b[0m\u001b[0m\n\u001b[0;32m   3088\u001b[0m     \u001b[1;32mif\u001b[0m \u001b[0mtarget\u001b[0m\u001b[1;33m.\u001b[0m\u001b[0msize\u001b[0m\u001b[1;33m(\u001b[0m\u001b[1;33m)\u001b[0m \u001b[1;33m!=\u001b[0m \u001b[0minput\u001b[0m\u001b[1;33m.\u001b[0m\u001b[0msize\u001b[0m\u001b[1;33m(\u001b[0m\u001b[1;33m)\u001b[0m\u001b[1;33m:\u001b[0m\u001b[1;33m\u001b[0m\u001b[1;33m\u001b[0m\u001b[0m\n\u001b[1;32m-> 3089\u001b[1;33m         raise ValueError(\n\u001b[0m\u001b[0;32m   3090\u001b[0m             \u001b[1;34m\"Using a target size ({}) that is different to the input size ({}) is deprecated. \"\u001b[0m\u001b[1;33m\u001b[0m\u001b[1;33m\u001b[0m\u001b[0m\n\u001b[0;32m   3091\u001b[0m             \u001b[1;34m\"Please ensure they have the same size.\"\u001b[0m\u001b[1;33m.\u001b[0m\u001b[0mformat\u001b[0m\u001b[1;33m(\u001b[0m\u001b[0mtarget\u001b[0m\u001b[1;33m.\u001b[0m\u001b[0msize\u001b[0m\u001b[1;33m(\u001b[0m\u001b[1;33m)\u001b[0m\u001b[1;33m,\u001b[0m \u001b[0minput\u001b[0m\u001b[1;33m.\u001b[0m\u001b[0msize\u001b[0m\u001b[1;33m(\u001b[0m\u001b[1;33m)\u001b[0m\u001b[1;33m)\u001b[0m\u001b[1;33m\u001b[0m\u001b[1;33m\u001b[0m\u001b[0m\n",
      "\u001b[1;31mValueError\u001b[0m: Using a target size (torch.Size([705])) that is different to the input size (torch.Size([705, 1])) is deprecated. Please ensure they have the same size."
     ]
    }
   ],
   "source": [
    "num_epochs = 20\n",
    "for epoch in range(num_epochs):\n",
    "    model.train()\n",
    "    optimizador.zero_grad()\n",
    "    outputs = model(X_train_tensor)\n",
    "    loss = perdida(outputs, y_train_tensor)\n",
    "    loss.backward()\n",
    "    optimizadr.step()\n",
    "    \n",
    "    model.eval()\n",
    "    with torch.no_grad():\n",
    "        outputs = model(X_test_tensor)\n",
    "        predictions = (outputs >= 0.5).float()\n",
    "        accuracy = (predictions == y_test_tensor).float().mean().item()\n",
    "    \n",
    "    print(f\"Epoch [{epoch+1}/{num_epochs}], Loss: {loss.item():.4f}, Accuracy: {accuracy * 100:.2f}%\")"
   ]
  },
  {
   "cell_type": "markdown",
   "id": "a49e4839-de04-40cf-ad6b-b951421410c6",
   "metadata": {},
   "source": [
    "# __Resolviendo el Error__"
   ]
  },
  {
   "cell_type": "code",
   "execution_count": 40,
   "id": "174b1bda-c40d-4565-85b1-032180440c6e",
   "metadata": {},
   "outputs": [
    {
     "data": {
      "text/plain": [
       "torch.Size([705])"
      ]
     },
     "execution_count": 40,
     "metadata": {},
     "output_type": "execute_result"
    }
   ],
   "source": [
    "y_train_tensor.shape"
   ]
  },
  {
   "cell_type": "code",
   "execution_count": 41,
   "id": "ecbc1852-280c-4926-8039-0e811522e9ef",
   "metadata": {},
   "outputs": [],
   "source": [
    "y_train_tensor = y_train_tensor.unsqueeze(dim = 1)\n",
    "y_test_tensor = y_test_tensor.unsqueeze(dim = 1)"
   ]
  },
  {
   "cell_type": "code",
   "execution_count": 42,
   "id": "2fa05652-0689-48e1-ab0a-69121963d653",
   "metadata": {},
   "outputs": [
    {
     "data": {
      "text/plain": [
       "torch.Size([705, 1])"
      ]
     },
     "execution_count": 42,
     "metadata": {},
     "output_type": "execute_result"
    }
   ],
   "source": [
    "y_train_tensor.shape"
   ]
  },
  {
   "cell_type": "markdown",
   "id": "67d1dd70-f299-4c48-a078-fef3e3f3e57b",
   "metadata": {},
   "source": [
    "# __Volviendo A Entrenar__"
   ]
  },
  {
   "cell_type": "code",
   "execution_count": 43,
   "id": "6c064f2f-9bb0-4386-862e-3593a73a6622",
   "metadata": {},
   "outputs": [
    {
     "name": "stdout",
     "output_type": "stream",
     "text": [
      "Epoch [1/50], Loss: 0.6905, Accuracy: 61.02%\n",
      "Epoch [2/50], Loss: 0.6791, Accuracy: 61.02%\n",
      "Epoch [3/50], Loss: 0.6693, Accuracy: 61.02%\n",
      "Epoch [4/50], Loss: 0.6605, Accuracy: 61.02%\n",
      "Epoch [5/50], Loss: 0.6520, Accuracy: 61.02%\n",
      "Epoch [6/50], Loss: 0.6432, Accuracy: 61.02%\n",
      "Epoch [7/50], Loss: 0.6341, Accuracy: 61.02%\n",
      "Epoch [8/50], Loss: 0.6243, Accuracy: 61.02%\n",
      "Epoch [9/50], Loss: 0.6137, Accuracy: 61.02%\n",
      "Epoch [10/50], Loss: 0.6025, Accuracy: 63.84%\n",
      "Epoch [11/50], Loss: 0.5906, Accuracy: 66.10%\n",
      "Epoch [12/50], Loss: 0.5783, Accuracy: 70.06%\n",
      "Epoch [13/50], Loss: 0.5656, Accuracy: 71.19%\n",
      "Epoch [14/50], Loss: 0.5527, Accuracy: 73.45%\n",
      "Epoch [15/50], Loss: 0.5396, Accuracy: 76.27%\n",
      "Epoch [16/50], Loss: 0.5266, Accuracy: 76.84%\n",
      "Epoch [17/50], Loss: 0.5141, Accuracy: 75.14%\n",
      "Epoch [18/50], Loss: 0.5021, Accuracy: 75.14%\n",
      "Epoch [19/50], Loss: 0.4908, Accuracy: 74.58%\n",
      "Epoch [20/50], Loss: 0.4803, Accuracy: 75.71%\n",
      "Epoch [21/50], Loss: 0.4707, Accuracy: 76.27%\n",
      "Epoch [22/50], Loss: 0.4623, Accuracy: 76.27%\n",
      "Epoch [23/50], Loss: 0.4555, Accuracy: 75.71%\n",
      "Epoch [24/50], Loss: 0.4503, Accuracy: 75.71%\n",
      "Epoch [25/50], Loss: 0.4465, Accuracy: 75.71%\n",
      "Epoch [26/50], Loss: 0.4436, Accuracy: 75.14%\n",
      "Epoch [27/50], Loss: 0.4407, Accuracy: 75.71%\n",
      "Epoch [28/50], Loss: 0.4374, Accuracy: 74.01%\n",
      "Epoch [29/50], Loss: 0.4336, Accuracy: 73.45%\n",
      "Epoch [30/50], Loss: 0.4294, Accuracy: 74.01%\n",
      "Epoch [31/50], Loss: 0.4252, Accuracy: 74.58%\n",
      "Epoch [32/50], Loss: 0.4212, Accuracy: 74.01%\n",
      "Epoch [33/50], Loss: 0.4177, Accuracy: 74.01%\n",
      "Epoch [34/50], Loss: 0.4146, Accuracy: 74.01%\n",
      "Epoch [35/50], Loss: 0.4119, Accuracy: 74.58%\n",
      "Epoch [36/50], Loss: 0.4094, Accuracy: 74.58%\n",
      "Epoch [37/50], Loss: 0.4070, Accuracy: 74.58%\n",
      "Epoch [38/50], Loss: 0.4049, Accuracy: 74.58%\n",
      "Epoch [39/50], Loss: 0.4030, Accuracy: 75.14%\n",
      "Epoch [40/50], Loss: 0.4012, Accuracy: 75.14%\n",
      "Epoch [41/50], Loss: 0.3995, Accuracy: 75.14%\n",
      "Epoch [42/50], Loss: 0.3977, Accuracy: 75.14%\n",
      "Epoch [43/50], Loss: 0.3959, Accuracy: 75.14%\n",
      "Epoch [44/50], Loss: 0.3942, Accuracy: 75.14%\n",
      "Epoch [45/50], Loss: 0.3927, Accuracy: 75.14%\n",
      "Epoch [46/50], Loss: 0.3914, Accuracy: 75.14%\n",
      "Epoch [47/50], Loss: 0.3902, Accuracy: 75.14%\n",
      "Epoch [48/50], Loss: 0.3891, Accuracy: 75.14%\n",
      "Epoch [49/50], Loss: 0.3878, Accuracy: 74.58%\n",
      "Epoch [50/50], Loss: 0.3865, Accuracy: 74.58%\n"
     ]
    }
   ],
   "source": [
    "num_epochs = 50\n",
    "for epoch in range(num_epochs):\n",
    "    model.train()\n",
    "    optimizador.zero_grad()\n",
    "    outputs = model(X_train_tensor)\n",
    "    loss = perdida(outputs, y_train_tensor)\n",
    "    loss.backward()\n",
    "    optimizador.step()\n",
    "    \n",
    "    model.eval()\n",
    "    with torch.no_grad():\n",
    "        outputs = model(X_test_tensor)\n",
    "        predictions = (outputs >= 0.5).float()\n",
    "        accuracy = (predictions == y_test_tensor).float().mean().item()\n",
    "    \n",
    "    print(f\"Epoch [{epoch+1}/{num_epochs}], Loss: {loss.item():.4f}, Accuracy: {accuracy * 100:.2f}%\")"
   ]
  },
  {
   "cell_type": "markdown",
   "id": "85ef3331-c817-4df5-88d9-06152b6462fc",
   "metadata": {},
   "source": [
    "## __Predicciones__"
   ]
  },
  {
   "cell_type": "code",
   "execution_count": 44,
   "id": "6518de21-2d0c-44c5-85e5-1c47637ecdcd",
   "metadata": {},
   "outputs": [],
   "source": [
    "predicciones = model(X_test_tensor)"
   ]
  },
  {
   "cell_type": "code",
   "execution_count": 46,
   "id": "22327001-18d7-487e-a658-505c71c34704",
   "metadata": {},
   "outputs": [
    {
     "data": {
      "text/plain": [
       "torch.Size([177, 1])"
      ]
     },
     "execution_count": 46,
     "metadata": {},
     "output_type": "execute_result"
    }
   ],
   "source": [
    "predicciones.shape"
   ]
  },
  {
   "cell_type": "code",
   "execution_count": 47,
   "id": "55585ee1-d2ed-409a-912f-0de70c6ca19c",
   "metadata": {},
   "outputs": [],
   "source": [
    "predicciones = torch.round(predicciones)"
   ]
  },
  {
   "cell_type": "markdown",
   "id": "f1e2beec-97fa-4413-829d-e2cb2591e07c",
   "metadata": {},
   "source": [
    "## __Evaluaciones__"
   ]
  },
  {
   "cell_type": "code",
   "execution_count": 49,
   "id": "44f851d0-afe3-4ac9-b8f7-581594d61ab8",
   "metadata": {},
   "outputs": [],
   "source": [
    "from sklearn.metrics import classification_report"
   ]
  },
  {
   "cell_type": "code",
   "execution_count": 50,
   "id": "fc6f36ac-562b-4c5b-9386-7869f604c967",
   "metadata": {},
   "outputs": [
    {
     "ename": "RuntimeError",
     "evalue": "Can't call numpy() on Tensor that requires grad. Use tensor.detach().numpy() instead.",
     "output_type": "error",
     "traceback": [
      "\u001b[1;31m---------------------------------------------------------------------------\u001b[0m",
      "\u001b[1;31mRuntimeError\u001b[0m                              Traceback (most recent call last)",
      "\u001b[1;32m~\\AppData\\Local\\Temp\\ipykernel_16232\\2938796380.py\u001b[0m in \u001b[0;36m<module>\u001b[1;34m\u001b[0m\n\u001b[1;32m----> 1\u001b[1;33m \u001b[0mprint\u001b[0m\u001b[1;33m(\u001b[0m\u001b[0mclassification_report\u001b[0m\u001b[1;33m(\u001b[0m\u001b[0my_test_tensor\u001b[0m\u001b[1;33m,\u001b[0m\u001b[0mpredicciones\u001b[0m\u001b[1;33m)\u001b[0m\u001b[1;33m)\u001b[0m\u001b[1;33m\u001b[0m\u001b[1;33m\u001b[0m\u001b[0m\n\u001b[0m",
      "\u001b[1;32m~\\anaconda3\\lib\\site-packages\\sklearn\\metrics\\_classification.py\u001b[0m in \u001b[0;36mclassification_report\u001b[1;34m(y_true, y_pred, labels, target_names, sample_weight, digits, output_dict, zero_division)\u001b[0m\n\u001b[0;32m   2108\u001b[0m     \"\"\"\n\u001b[0;32m   2109\u001b[0m \u001b[1;33m\u001b[0m\u001b[0m\n\u001b[1;32m-> 2110\u001b[1;33m     \u001b[0my_type\u001b[0m\u001b[1;33m,\u001b[0m \u001b[0my_true\u001b[0m\u001b[1;33m,\u001b[0m \u001b[0my_pred\u001b[0m \u001b[1;33m=\u001b[0m \u001b[0m_check_targets\u001b[0m\u001b[1;33m(\u001b[0m\u001b[0my_true\u001b[0m\u001b[1;33m,\u001b[0m \u001b[0my_pred\u001b[0m\u001b[1;33m)\u001b[0m\u001b[1;33m\u001b[0m\u001b[1;33m\u001b[0m\u001b[0m\n\u001b[0m\u001b[0;32m   2111\u001b[0m \u001b[1;33m\u001b[0m\u001b[0m\n\u001b[0;32m   2112\u001b[0m     \u001b[1;32mif\u001b[0m \u001b[0mlabels\u001b[0m \u001b[1;32mis\u001b[0m \u001b[1;32mNone\u001b[0m\u001b[1;33m:\u001b[0m\u001b[1;33m\u001b[0m\u001b[1;33m\u001b[0m\u001b[0m\n",
      "\u001b[1;32m~\\anaconda3\\lib\\site-packages\\sklearn\\metrics\\_classification.py\u001b[0m in \u001b[0;36m_check_targets\u001b[1;34m(y_true, y_pred)\u001b[0m\n\u001b[0;32m     84\u001b[0m     \u001b[0mcheck_consistent_length\u001b[0m\u001b[1;33m(\u001b[0m\u001b[0my_true\u001b[0m\u001b[1;33m,\u001b[0m \u001b[0my_pred\u001b[0m\u001b[1;33m)\u001b[0m\u001b[1;33m\u001b[0m\u001b[1;33m\u001b[0m\u001b[0m\n\u001b[0;32m     85\u001b[0m     \u001b[0mtype_true\u001b[0m \u001b[1;33m=\u001b[0m \u001b[0mtype_of_target\u001b[0m\u001b[1;33m(\u001b[0m\u001b[0my_true\u001b[0m\u001b[1;33m)\u001b[0m\u001b[1;33m\u001b[0m\u001b[1;33m\u001b[0m\u001b[0m\n\u001b[1;32m---> 86\u001b[1;33m     \u001b[0mtype_pred\u001b[0m \u001b[1;33m=\u001b[0m \u001b[0mtype_of_target\u001b[0m\u001b[1;33m(\u001b[0m\u001b[0my_pred\u001b[0m\u001b[1;33m)\u001b[0m\u001b[1;33m\u001b[0m\u001b[1;33m\u001b[0m\u001b[0m\n\u001b[0m\u001b[0;32m     87\u001b[0m \u001b[1;33m\u001b[0m\u001b[0m\n\u001b[0;32m     88\u001b[0m     \u001b[0my_type\u001b[0m \u001b[1;33m=\u001b[0m \u001b[1;33m{\u001b[0m\u001b[0mtype_true\u001b[0m\u001b[1;33m,\u001b[0m \u001b[0mtype_pred\u001b[0m\u001b[1;33m}\u001b[0m\u001b[1;33m\u001b[0m\u001b[1;33m\u001b[0m\u001b[0m\n",
      "\u001b[1;32m~\\anaconda3\\lib\\site-packages\\sklearn\\utils\\multiclass.py\u001b[0m in \u001b[0;36mtype_of_target\u001b[1;34m(y)\u001b[0m\n\u001b[0;32m    276\u001b[0m         \u001b[1;32mraise\u001b[0m \u001b[0mValueError\u001b[0m\u001b[1;33m(\u001b[0m\u001b[1;34m\"y cannot be class 'SparseSeries' or 'SparseArray'\"\u001b[0m\u001b[1;33m)\u001b[0m\u001b[1;33m\u001b[0m\u001b[1;33m\u001b[0m\u001b[0m\n\u001b[0;32m    277\u001b[0m \u001b[1;33m\u001b[0m\u001b[0m\n\u001b[1;32m--> 278\u001b[1;33m     \u001b[1;32mif\u001b[0m \u001b[0mis_multilabel\u001b[0m\u001b[1;33m(\u001b[0m\u001b[0my\u001b[0m\u001b[1;33m)\u001b[0m\u001b[1;33m:\u001b[0m\u001b[1;33m\u001b[0m\u001b[1;33m\u001b[0m\u001b[0m\n\u001b[0m\u001b[0;32m    279\u001b[0m         \u001b[1;32mreturn\u001b[0m \u001b[1;34m\"multilabel-indicator\"\u001b[0m\u001b[1;33m\u001b[0m\u001b[1;33m\u001b[0m\u001b[0m\n\u001b[0;32m    280\u001b[0m \u001b[1;33m\u001b[0m\u001b[0m\n",
      "\u001b[1;32m~\\anaconda3\\lib\\site-packages\\sklearn\\utils\\multiclass.py\u001b[0m in \u001b[0;36mis_multilabel\u001b[1;34m(y)\u001b[0m\n\u001b[0;32m    148\u001b[0m             \u001b[0mwarnings\u001b[0m\u001b[1;33m.\u001b[0m\u001b[0msimplefilter\u001b[0m\u001b[1;33m(\u001b[0m\u001b[1;34m\"error\"\u001b[0m\u001b[1;33m,\u001b[0m \u001b[0mnp\u001b[0m\u001b[1;33m.\u001b[0m\u001b[0mVisibleDeprecationWarning\u001b[0m\u001b[1;33m)\u001b[0m\u001b[1;33m\u001b[0m\u001b[1;33m\u001b[0m\u001b[0m\n\u001b[0;32m    149\u001b[0m             \u001b[1;32mtry\u001b[0m\u001b[1;33m:\u001b[0m\u001b[1;33m\u001b[0m\u001b[1;33m\u001b[0m\u001b[0m\n\u001b[1;32m--> 150\u001b[1;33m                 \u001b[0my\u001b[0m \u001b[1;33m=\u001b[0m \u001b[0mnp\u001b[0m\u001b[1;33m.\u001b[0m\u001b[0masarray\u001b[0m\u001b[1;33m(\u001b[0m\u001b[0my\u001b[0m\u001b[1;33m)\u001b[0m\u001b[1;33m\u001b[0m\u001b[1;33m\u001b[0m\u001b[0m\n\u001b[0m\u001b[0;32m    151\u001b[0m             \u001b[1;32mexcept\u001b[0m \u001b[0mnp\u001b[0m\u001b[1;33m.\u001b[0m\u001b[0mVisibleDeprecationWarning\u001b[0m\u001b[1;33m:\u001b[0m\u001b[1;33m\u001b[0m\u001b[1;33m\u001b[0m\u001b[0m\n\u001b[0;32m    152\u001b[0m                 \u001b[1;31m# dtype=object should be provided explicitly for ragged arrays,\u001b[0m\u001b[1;33m\u001b[0m\u001b[1;33m\u001b[0m\u001b[0m\n",
      "\u001b[1;32m~\\anaconda3\\lib\\site-packages\\torch\\_tensor.py\u001b[0m in \u001b[0;36m__array__\u001b[1;34m(self, dtype)\u001b[0m\n\u001b[0;32m    968\u001b[0m             \u001b[1;32mreturn\u001b[0m \u001b[0mhandle_torch_function\u001b[0m\u001b[1;33m(\u001b[0m\u001b[0mTensor\u001b[0m\u001b[1;33m.\u001b[0m\u001b[0m__array__\u001b[0m\u001b[1;33m,\u001b[0m \u001b[1;33m(\u001b[0m\u001b[0mself\u001b[0m\u001b[1;33m,\u001b[0m\u001b[1;33m)\u001b[0m\u001b[1;33m,\u001b[0m \u001b[0mself\u001b[0m\u001b[1;33m,\u001b[0m \u001b[0mdtype\u001b[0m\u001b[1;33m=\u001b[0m\u001b[0mdtype\u001b[0m\u001b[1;33m)\u001b[0m\u001b[1;33m\u001b[0m\u001b[1;33m\u001b[0m\u001b[0m\n\u001b[0;32m    969\u001b[0m         \u001b[1;32mif\u001b[0m \u001b[0mdtype\u001b[0m \u001b[1;32mis\u001b[0m \u001b[1;32mNone\u001b[0m\u001b[1;33m:\u001b[0m\u001b[1;33m\u001b[0m\u001b[1;33m\u001b[0m\u001b[0m\n\u001b[1;32m--> 970\u001b[1;33m             \u001b[1;32mreturn\u001b[0m \u001b[0mself\u001b[0m\u001b[1;33m.\u001b[0m\u001b[0mnumpy\u001b[0m\u001b[1;33m(\u001b[0m\u001b[1;33m)\u001b[0m\u001b[1;33m\u001b[0m\u001b[1;33m\u001b[0m\u001b[0m\n\u001b[0m\u001b[0;32m    971\u001b[0m         \u001b[1;32melse\u001b[0m\u001b[1;33m:\u001b[0m\u001b[1;33m\u001b[0m\u001b[1;33m\u001b[0m\u001b[0m\n\u001b[0;32m    972\u001b[0m             \u001b[1;32mreturn\u001b[0m \u001b[0mself\u001b[0m\u001b[1;33m.\u001b[0m\u001b[0mnumpy\u001b[0m\u001b[1;33m(\u001b[0m\u001b[1;33m)\u001b[0m\u001b[1;33m.\u001b[0m\u001b[0mastype\u001b[0m\u001b[1;33m(\u001b[0m\u001b[0mdtype\u001b[0m\u001b[1;33m,\u001b[0m \u001b[0mcopy\u001b[0m\u001b[1;33m=\u001b[0m\u001b[1;32mFalse\u001b[0m\u001b[1;33m)\u001b[0m\u001b[1;33m\u001b[0m\u001b[1;33m\u001b[0m\u001b[0m\n",
      "\u001b[1;31mRuntimeError\u001b[0m: Can't call numpy() on Tensor that requires grad. Use tensor.detach().numpy() instead."
     ]
    }
   ],
   "source": [
    "print(classification_report(y_test_tensor,predicciones))"
   ]
  },
  {
   "cell_type": "markdown",
   "id": "7a18fae1-ae93-4a9a-ae26-587d542f9fd6",
   "metadata": {},
   "source": [
    "## __¿Qué Ocurrió? : El Concepto De Grafo__"
   ]
  },
  {
   "cell_type": "markdown",
   "id": "20b152aa-460b-4073-9911-4f71ef806128",
   "metadata": {},
   "source": [
    "* Un grafo de computación es como un plano o un mapa que describe cómo los datos fluyen a través de una serie de operaciones.\n",
    "* En PyTorch, este grafo lleva un registro de todas las operaciones que se aplican a los tensores (la estructura de datos básica en PyTorch).\n",
    "* Este grafo es esencial para la diferenciación automática, que permite a PyTorch calcular los gradientes necesarios para optimizar redes neuronales."
   ]
  },
  {
   "cell_type": "markdown",
   "id": "f4b3c8ac-8f52-44f0-a2f4-4edd7dfcf4a3",
   "metadata": {},
   "source": [
    "Recordemos que estamos trabajando con __Tensors__, no con __Numpy Arrays__. Internamente, PyTorch trata de convertirlo a Numpy, pero no puede porque son parte del grafo y para PyTorch esto es una especie de interrupción a su seguimiento.  \n",
    "\n",
    "Simplemente, debemos utilizar __detach__, para poder crear un nuevo tensor que no es parte del grafo y así poder utilizarlo"
   ]
  },
  {
   "cell_type": "code",
   "execution_count": 53,
   "id": "5781cacc-5567-42e9-ba86-b0ab5102bbbf",
   "metadata": {},
   "outputs": [
    {
     "data": {
      "text/plain": [
       "tensor([[0.],\n",
       "        [0.],\n",
       "        [0.],\n",
       "        [0.],\n",
       "        [0.]], grad_fn=<SliceBackward0>)"
      ]
     },
     "execution_count": 53,
     "metadata": {},
     "output_type": "execute_result"
    }
   ],
   "source": [
    "predicciones[:5]"
   ]
  },
  {
   "cell_type": "code",
   "execution_count": 54,
   "id": "43f4f028-ad18-4350-a240-030fbd1623e6",
   "metadata": {},
   "outputs": [
    {
     "data": {
      "text/plain": [
       "array([[0.],\n",
       "       [0.],\n",
       "       [0.],\n",
       "       [0.],\n",
       "       [0.]], dtype=float32)"
      ]
     },
     "execution_count": 54,
     "metadata": {},
     "output_type": "execute_result"
    }
   ],
   "source": [
    "predicciones.detach().numpy()[:5]"
   ]
  },
  {
   "cell_type": "code",
   "execution_count": 55,
   "id": "c9f0a3f4-42c1-4225-99a3-83e5fbc8fc13",
   "metadata": {},
   "outputs": [
    {
     "name": "stdout",
     "output_type": "stream",
     "text": [
      "              precision    recall  f1-score   support\n",
      "\n",
      "         0.0       0.74      0.89      0.81       108\n",
      "         1.0       0.75      0.52      0.62        69\n",
      "\n",
      "    accuracy                           0.75       177\n",
      "   macro avg       0.75      0.71      0.71       177\n",
      "weighted avg       0.75      0.75      0.73       177\n",
      "\n"
     ]
    }
   ],
   "source": [
    "print(classification_report(y_test_tensor,predicciones.detach().numpy()))"
   ]
  },
  {
   "cell_type": "markdown",
   "id": "91a99eb0-e061-4afc-85eb-c90c60086653",
   "metadata": {},
   "source": [
    "# __Siguiendo El Modelo Paso a Paso__"
   ]
  },
  {
   "cell_type": "code",
   "execution_count": null,
   "id": "f9fd538b-a2f4-4f4f-b63f-be3de4754f51",
   "metadata": {},
   "outputs": [],
   "source": [
    "class BinaryClassificationModel(nn.Module):\n",
    "    def __init__(self):\n",
    "        super(BinaryClassificationModel, self).__init__()\n",
    "        self.fc1 = nn.Linear(X_train.shape[1], 100)  # Adjust input size\n",
    "        self.fc2 = nn.Linear(100, 300)\n",
    "        self.fc3 = nn.Linear(300, 200)\n",
    "        self.fc4 = nn.Linear(200, 1)\n",
    "        self.sigmoid = nn.Sigmoid()\n",
    "\n",
    "    def forward(self, x):\n",
    "        x = torch.relu(self.fc1(x))\n",
    "        x = torch.relu(self.fc2(x))\n",
    "        x = torch.relu(self.fc3(x))\n",
    "        x = self.fc4(x)\n",
    "        x = self.sigmoid(x)\n",
    "        return x"
   ]
  },
  {
   "cell_type": "code",
   "execution_count": 56,
   "id": "dae40267-8b3a-4a1a-9d06-554fda564389",
   "metadata": {},
   "outputs": [],
   "source": [
    "capa1 = nn.Linear(X_train.shape[1], 100)\n",
    "capa2 = nn.Linear(100, 300)\n",
    "capa3 = nn.Linear(300, 200)\n",
    "capa4 = nn.Linear(200, 1)\n",
    "sigmoidFinal = nn.Sigmoid()"
   ]
  },
  {
   "cell_type": "code",
   "execution_count": 57,
   "id": "610845ce-defc-4705-bc7e-dd21fc51789e",
   "metadata": {},
   "outputs": [
    {
     "data": {
      "text/plain": [
       "array([[0.7260274 , 1.        , 0.        , ..., 0.        , 1.        ,\n",
       "        0.        ],\n",
       "       [0.39706652, 0.        , 1.        , ..., 0.        , 0.        ,\n",
       "        1.        ],\n",
       "       [0.39706652, 1.        , 1.        , ..., 0.        , 0.        ,\n",
       "        1.        ],\n",
       "       ...,\n",
       "       [0.01369863, 1.        , 0.        , ..., 0.        , 1.        ,\n",
       "        0.        ],\n",
       "       [0.39706652, 1.        , 0.        , ..., 0.        , 0.        ,\n",
       "        0.        ],\n",
       "       [0.43835616, 1.        , 0.        , ..., 0.        , 0.        ,\n",
       "        0.        ]])"
      ]
     },
     "execution_count": 57,
     "metadata": {},
     "output_type": "execute_result"
    }
   ],
   "source": [
    "X_train_scaled"
   ]
  },
  {
   "cell_type": "code",
   "execution_count": 58,
   "id": "e23e2dac-bfca-4301-8610-def451670ecd",
   "metadata": {},
   "outputs": [
    {
     "ename": "TypeError",
     "evalue": "linear(): argument 'input' (position 1) must be Tensor, not numpy.ndarray",
     "output_type": "error",
     "traceback": [
      "\u001b[1;31m---------------------------------------------------------------------------\u001b[0m",
      "\u001b[1;31mTypeError\u001b[0m                                 Traceback (most recent call last)",
      "\u001b[1;32m~\\AppData\\Local\\Temp\\ipykernel_16232\\4010829254.py\u001b[0m in \u001b[0;36m<module>\u001b[1;34m\u001b[0m\n\u001b[1;32m----> 1\u001b[1;33m \u001b[0mcapa1\u001b[0m\u001b[1;33m(\u001b[0m\u001b[0mX_train_scaled\u001b[0m\u001b[1;33m)\u001b[0m\u001b[1;33m\u001b[0m\u001b[1;33m\u001b[0m\u001b[0m\n\u001b[0m",
      "\u001b[1;32m~\\anaconda3\\lib\\site-packages\\torch\\nn\\modules\\module.py\u001b[0m in \u001b[0;36m_call_impl\u001b[1;34m(self, *args, **kwargs)\u001b[0m\n\u001b[0;32m   1499\u001b[0m                 \u001b[1;32mor\u001b[0m \u001b[0m_global_backward_pre_hooks\u001b[0m \u001b[1;32mor\u001b[0m \u001b[0m_global_backward_hooks\u001b[0m\u001b[1;33m\u001b[0m\u001b[1;33m\u001b[0m\u001b[0m\n\u001b[0;32m   1500\u001b[0m                 or _global_forward_hooks or _global_forward_pre_hooks):\n\u001b[1;32m-> 1501\u001b[1;33m             \u001b[1;32mreturn\u001b[0m \u001b[0mforward_call\u001b[0m\u001b[1;33m(\u001b[0m\u001b[1;33m*\u001b[0m\u001b[0margs\u001b[0m\u001b[1;33m,\u001b[0m \u001b[1;33m**\u001b[0m\u001b[0mkwargs\u001b[0m\u001b[1;33m)\u001b[0m\u001b[1;33m\u001b[0m\u001b[1;33m\u001b[0m\u001b[0m\n\u001b[0m\u001b[0;32m   1502\u001b[0m         \u001b[1;31m# Do not call functions when jit is used\u001b[0m\u001b[1;33m\u001b[0m\u001b[1;33m\u001b[0m\u001b[0m\n\u001b[0;32m   1503\u001b[0m         \u001b[0mfull_backward_hooks\u001b[0m\u001b[1;33m,\u001b[0m \u001b[0mnon_full_backward_hooks\u001b[0m \u001b[1;33m=\u001b[0m \u001b[1;33m[\u001b[0m\u001b[1;33m]\u001b[0m\u001b[1;33m,\u001b[0m \u001b[1;33m[\u001b[0m\u001b[1;33m]\u001b[0m\u001b[1;33m\u001b[0m\u001b[1;33m\u001b[0m\u001b[0m\n",
      "\u001b[1;32m~\\anaconda3\\lib\\site-packages\\torch\\nn\\modules\\linear.py\u001b[0m in \u001b[0;36mforward\u001b[1;34m(self, input)\u001b[0m\n\u001b[0;32m    112\u001b[0m \u001b[1;33m\u001b[0m\u001b[0m\n\u001b[0;32m    113\u001b[0m     \u001b[1;32mdef\u001b[0m \u001b[0mforward\u001b[0m\u001b[1;33m(\u001b[0m\u001b[0mself\u001b[0m\u001b[1;33m,\u001b[0m \u001b[0minput\u001b[0m\u001b[1;33m:\u001b[0m \u001b[0mTensor\u001b[0m\u001b[1;33m)\u001b[0m \u001b[1;33m->\u001b[0m \u001b[0mTensor\u001b[0m\u001b[1;33m:\u001b[0m\u001b[1;33m\u001b[0m\u001b[1;33m\u001b[0m\u001b[0m\n\u001b[1;32m--> 114\u001b[1;33m         \u001b[1;32mreturn\u001b[0m \u001b[0mF\u001b[0m\u001b[1;33m.\u001b[0m\u001b[0mlinear\u001b[0m\u001b[1;33m(\u001b[0m\u001b[0minput\u001b[0m\u001b[1;33m,\u001b[0m \u001b[0mself\u001b[0m\u001b[1;33m.\u001b[0m\u001b[0mweight\u001b[0m\u001b[1;33m,\u001b[0m \u001b[0mself\u001b[0m\u001b[1;33m.\u001b[0m\u001b[0mbias\u001b[0m\u001b[1;33m)\u001b[0m\u001b[1;33m\u001b[0m\u001b[1;33m\u001b[0m\u001b[0m\n\u001b[0m\u001b[0;32m    115\u001b[0m \u001b[1;33m\u001b[0m\u001b[0m\n\u001b[0;32m    116\u001b[0m     \u001b[1;32mdef\u001b[0m \u001b[0mextra_repr\u001b[0m\u001b[1;33m(\u001b[0m\u001b[0mself\u001b[0m\u001b[1;33m)\u001b[0m \u001b[1;33m->\u001b[0m \u001b[0mstr\u001b[0m\u001b[1;33m:\u001b[0m\u001b[1;33m\u001b[0m\u001b[1;33m\u001b[0m\u001b[0m\n",
      "\u001b[1;31mTypeError\u001b[0m: linear(): argument 'input' (position 1) must be Tensor, not numpy.ndarray"
     ]
    }
   ],
   "source": [
    "capa1(X_train_scaled)"
   ]
  },
  {
   "cell_type": "markdown",
   "id": "c3898950-7a35-4273-a17e-6fe06a76c46e",
   "metadata": {},
   "source": [
    "### __Recordar : Estamos Trabajando Con Tensors__"
   ]
  },
  {
   "cell_type": "code",
   "execution_count": 59,
   "id": "d85fc4f7-f28f-4202-ada3-5dc2540b9061",
   "metadata": {},
   "outputs": [
    {
     "data": {
      "text/plain": [
       "tensor([[-0.1741, -0.0732, -0.0329,  ...,  0.1878, -0.4276,  0.0328],\n",
       "        [ 0.0978,  0.3097,  0.6096,  ..., -0.1553,  0.1407,  0.0484],\n",
       "        [ 0.3174,  0.2746,  0.3649,  ..., -0.2930,  0.5226,  0.3182],\n",
       "        ...,\n",
       "        [-0.2174,  0.0479,  0.0874,  ...,  0.0035, -0.5874,  0.1191],\n",
       "        [ 0.0255, -0.1236, -0.3003,  ..., -0.0910,  0.2055,  0.1872],\n",
       "        [ 0.0280, -0.1306, -0.3073,  ..., -0.0804,  0.2148,  0.1822]],\n",
       "       grad_fn=<AddmmBackward0>)"
      ]
     },
     "execution_count": 59,
     "metadata": {},
     "output_type": "execute_result"
    }
   ],
   "source": [
    "outputs1 = capa1(X_train_tensor)\n",
    "outputs1"
   ]
  },
  {
   "cell_type": "code",
   "execution_count": 61,
   "id": "29bfc1e2-84aa-4313-a8be-9ab2cfba1ac1",
   "metadata": {},
   "outputs": [
    {
     "data": {
      "text/plain": [
       "torch.Size([705, 14])"
      ]
     },
     "execution_count": 61,
     "metadata": {},
     "output_type": "execute_result"
    }
   ],
   "source": [
    "X_train_tensor.shape"
   ]
  },
  {
   "cell_type": "code",
   "execution_count": 60,
   "id": "bfef1d8f-8ea6-43d2-9dd3-312c3479c59c",
   "metadata": {},
   "outputs": [
    {
     "data": {
      "text/plain": [
       "torch.Size([705, 100])"
      ]
     },
     "execution_count": 60,
     "metadata": {},
     "output_type": "execute_result"
    }
   ],
   "source": [
    "outputs1.shape"
   ]
  },
  {
   "cell_type": "markdown",
   "id": "d3637d4e-d977-4c83-9869-9f2acc520d8d",
   "metadata": {},
   "source": [
    "## __No Olvidar La Activación ReLU__"
   ]
  },
  {
   "cell_type": "code",
   "execution_count": 62,
   "id": "300b8485-bd82-422d-83f4-e447edeeb3d7",
   "metadata": {},
   "outputs": [
    {
     "data": {
      "text/plain": [
       "tensor([[0.0000, 0.0000, 0.0000,  ..., 0.1878, 0.0000, 0.0328],\n",
       "        [0.0978, 0.3097, 0.6096,  ..., 0.0000, 0.1407, 0.0484],\n",
       "        [0.3174, 0.2746, 0.3649,  ..., 0.0000, 0.5226, 0.3182],\n",
       "        ...,\n",
       "        [0.0000, 0.0479, 0.0874,  ..., 0.0035, 0.0000, 0.1191],\n",
       "        [0.0255, 0.0000, 0.0000,  ..., 0.0000, 0.2055, 0.1872],\n",
       "        [0.0280, 0.0000, 0.0000,  ..., 0.0000, 0.2148, 0.1822]],\n",
       "       grad_fn=<ReluBackward0>)"
      ]
     },
     "execution_count": 62,
     "metadata": {},
     "output_type": "execute_result"
    }
   ],
   "source": [
    "outputs1 = torch.relu(outputs1)\n",
    "outputs1"
   ]
  },
  {
   "cell_type": "code",
   "execution_count": 63,
   "id": "751d69b5-8a7a-48f2-a997-72576268b3b7",
   "metadata": {},
   "outputs": [
    {
     "data": {
      "text/plain": [
       "torch.Size([705, 100])"
      ]
     },
     "execution_count": 63,
     "metadata": {},
     "output_type": "execute_result"
    }
   ],
   "source": [
    "outputs1.shape"
   ]
  },
  {
   "cell_type": "markdown",
   "id": "57c47b23-ba4e-4e64-9b6f-ae4e9452d88a",
   "metadata": {},
   "source": [
    "## __Seguimos Con La Capa 2 Y Aplicamos ReLU__"
   ]
  },
  {
   "cell_type": "code",
   "execution_count": 64,
   "id": "506a0522-dfb5-4394-964d-1c91eb5370c0",
   "metadata": {},
   "outputs": [
    {
     "data": {
      "text/plain": [
       "tensor([[0.0000, 0.0000, 0.1758,  ..., 0.2485, 0.0000, 0.3391],\n",
       "        [0.0000, 0.2453, 0.0579,  ..., 0.0045, 0.0000, 0.0000],\n",
       "        [0.1682, 0.1132, 0.0739,  ..., 0.0993, 0.0000, 0.0260],\n",
       "        ...,\n",
       "        [0.0000, 0.0256, 0.1303,  ..., 0.2637, 0.0000, 0.3354],\n",
       "        [0.0265, 0.0728, 0.0950,  ..., 0.2927, 0.0000, 0.2167],\n",
       "        [0.0231, 0.0724, 0.0946,  ..., 0.2943, 0.0000, 0.2194]],\n",
       "       grad_fn=<ReluBackward0>)"
      ]
     },
     "execution_count": 64,
     "metadata": {},
     "output_type": "execute_result"
    }
   ],
   "source": [
    "outputs2 = torch.relu(capa2(outputs1))\n",
    "outputs2"
   ]
  },
  {
   "cell_type": "code",
   "execution_count": 65,
   "id": "28527338-bbba-4fbd-b9ba-21f185523891",
   "metadata": {},
   "outputs": [
    {
     "data": {
      "text/plain": [
       "torch.Size([705, 300])"
      ]
     },
     "execution_count": 65,
     "metadata": {},
     "output_type": "execute_result"
    }
   ],
   "source": [
    "outputs2.shape"
   ]
  },
  {
   "cell_type": "markdown",
   "id": "68abe5ed-823e-4e7d-9fe1-47eecc6aeaa5",
   "metadata": {},
   "source": [
    "## __Seguimos Con La Capa 3 Y Aplicamos ReLU__"
   ]
  },
  {
   "cell_type": "code",
   "execution_count": 66,
   "id": "8e03a929-0156-406f-80aa-83549d9fbc72",
   "metadata": {},
   "outputs": [
    {
     "data": {
      "text/plain": [
       "tensor([[0.0975, 0.0000, 0.0324,  ..., 0.1700, 0.0000, 0.0046],\n",
       "        [0.0000, 0.0000, 0.0316,  ..., 0.1263, 0.0599, 0.0132],\n",
       "        [0.0080, 0.0000, 0.0467,  ..., 0.1385, 0.0161, 0.0602],\n",
       "        ...,\n",
       "        [0.0972, 0.0000, 0.0219,  ..., 0.1780, 0.0000, 0.0034],\n",
       "        [0.0706, 0.0000, 0.0281,  ..., 0.1234, 0.0051, 0.0067],\n",
       "        [0.0715, 0.0000, 0.0285,  ..., 0.1235, 0.0053, 0.0062]],\n",
       "       grad_fn=<ReluBackward0>)"
      ]
     },
     "execution_count": 66,
     "metadata": {},
     "output_type": "execute_result"
    }
   ],
   "source": [
    "outputs3 = torch.relu(capa3(outputs2))\n",
    "outputs3"
   ]
  },
  {
   "cell_type": "code",
   "execution_count": 67,
   "id": "0358dd7a-67ca-4941-8f20-627af58bb9d8",
   "metadata": {},
   "outputs": [
    {
     "data": {
      "text/plain": [
       "torch.Size([705, 200])"
      ]
     },
     "execution_count": 67,
     "metadata": {},
     "output_type": "execute_result"
    }
   ],
   "source": [
    "outputs3.shape"
   ]
  },
  {
   "cell_type": "markdown",
   "id": "1cf40dcd-6a7e-46fc-acf2-4ad2e773229e",
   "metadata": {},
   "source": [
    "## __Capa 4 Y Activación Final__"
   ]
  },
  {
   "cell_type": "code",
   "execution_count": 68,
   "id": "981293dd-6246-48f8-a503-9a15842bd958",
   "metadata": {},
   "outputs": [
    {
     "data": {
      "text/plain": [
       "torch.Size([705, 1])"
      ]
     },
     "execution_count": 68,
     "metadata": {},
     "output_type": "execute_result"
    }
   ],
   "source": [
    "outputs4 = capa4(outputs3)\n",
    "outputs4.shape"
   ]
  },
  {
   "cell_type": "code",
   "execution_count": 69,
   "id": "e2c175a2-1d4c-4434-be78-ebb7bf6de6d3",
   "metadata": {},
   "outputs": [
    {
     "data": {
      "text/plain": [
       "tensor([[-0.0317],\n",
       "        [-0.0340],\n",
       "        [-0.0334],\n",
       "        [-0.0434],\n",
       "        [-0.0332]], grad_fn=<SliceBackward0>)"
      ]
     },
     "execution_count": 69,
     "metadata": {},
     "output_type": "execute_result"
    }
   ],
   "source": [
    "outputs4[:5]"
   ]
  },
  {
   "cell_type": "code",
   "execution_count": 70,
   "id": "c8258313-a397-41d4-a293-d1404143e250",
   "metadata": {},
   "outputs": [
    {
     "data": {
      "text/plain": [
       "torch.Size([705, 1])"
      ]
     },
     "execution_count": 70,
     "metadata": {},
     "output_type": "execute_result"
    }
   ],
   "source": [
    "final_outputs = sigmoidFinal(outputs4)\n",
    "final_outputs.shape"
   ]
  },
  {
   "cell_type": "code",
   "execution_count": 71,
   "id": "99b0572c-8f06-4303-bac0-5cc71b769999",
   "metadata": {},
   "outputs": [
    {
     "data": {
      "text/plain": [
       "tensor([[0.4921],\n",
       "        [0.4915],\n",
       "        [0.4916],\n",
       "        [0.4892],\n",
       "        [0.4917]], grad_fn=<SliceBackward0>)"
      ]
     },
     "execution_count": 71,
     "metadata": {},
     "output_type": "execute_result"
    }
   ],
   "source": [
    "final_outputs[:5]"
   ]
  },
  {
   "cell_type": "markdown",
   "id": "b05b29b8-fb8a-4aed-98a3-7762ee096cc4",
   "metadata": {},
   "source": [
    "## __Calculando La Pérdida__"
   ]
  },
  {
   "cell_type": "code",
   "execution_count": 72,
   "id": "668bcc86-d544-470a-b254-fd35ddad4594",
   "metadata": {},
   "outputs": [
    {
     "data": {
      "text/plain": [
       "tensor(0.6885, grad_fn=<BinaryCrossEntropyBackward0>)"
      ]
     },
     "execution_count": 72,
     "metadata": {},
     "output_type": "execute_result"
    }
   ],
   "source": [
    "perdida(final_outputs, y_train_tensor)."
   ]
  },
  {
   "cell_type": "code",
   "execution_count": null,
   "id": "15f8b72c-2271-45f1-9ada-67f699197589",
   "metadata": {},
   "outputs": [],
   "source": []
  }
 ],
 "metadata": {
  "kernelspec": {
   "display_name": "Python 3 (ipykernel)",
   "language": "python",
   "name": "python3"
  },
  "language_info": {
   "codemirror_mode": {
    "name": "ipython",
    "version": 3
   },
   "file_extension": ".py",
   "mimetype": "text/x-python",
   "name": "python",
   "nbconvert_exporter": "python",
   "pygments_lexer": "ipython3",
   "version": "3.9.13"
  }
 },
 "nbformat": 4,
 "nbformat_minor": 5
}
